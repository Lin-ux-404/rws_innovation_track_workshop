{
 "cells": [
  {
   "cell_type": "markdown",
   "metadata": {},
   "source": [
    "# Multi-Agent Architecture with Semantic Kernel and Azure API Management\n",
    "\n",
    "## Workshop for RWS: Building a Proof of Concept\n",
    "\n",
    "This workshop guides you through building a multi-agent architecture that leverages Semantic Kernel for orchestrating agents and Azure API Management (APIM) as an AI Gateway for function calling against backend services like Azure Functions and databases.\n",
    "\n",
    "### Architecture Overview\n",
    "\n",
    "```\n",
    "┌─────────────────┐     ┌───────────────┐     ┌─────────────────┐     ┌────────────────┐\n",
    "│                 │     │               │     │                 │     │                │\n",
    "│  Semantic Kernel│     │  Azure API    │     │  Integration    │     │  Data Sources  │\n",
    "│  Multi-Agents   │────▶│  Management   │────▶│  Services       │────▶│              │\n",
    "│                 │     │  (AI Gateway) │     │  (Functions)    │     │                │\n",
    "└─────────────────┘     └───────────────┘     └─────────────────┘     └────────────────┘\n",
    "```\n",
    "\n",
    "### What You'll Learn\n",
    "\n",
    "1. How to set up Semantic Kernel with multiple specialized agents\n",
    "2. How to connect agents to Azure API Management for function calling\n",
    "3. How to orchestrate agent collaboration using different strategies\n",
    "5. How to build specialized agents performing different tasks (RAG with AI Search, function calling, etc.)\n",
    "\n",
    "### Implementation Approach\n",
    "\n",
    "The implementation code is organized into Python modules in the `rws-app` directory for better maintainability and reuse. This notebook will focus on explaining concepts and demonstrating how to use these modules.\n",
    "\n",
    "Let's begin."
   ]
  },
  {
   "cell_type": "markdown",
   "metadata": {},
   "source": [
    "## Step 1: Environment Setup and Prerequisites\n",
    "\n",
    "First, let's install the necessary packages and set up our environment. We'll need Semantic Kernel and other supporting libraries."
   ]
  },
  {
   "cell_type": "code",
   "execution_count": null,
   "metadata": {},
   "outputs": [],
   "source": [
    "# Install required packages\n",
    "! pip install semantic-kernel==1.29.0 azure-identity python-dotenv requests pyodbc"
   ]
  },
  {
   "cell_type": "markdown",
   "metadata": {},
   "source": [
    "We'll use Python modules from the `rws-app` directory to organize our code. Let's import these modules:"
   ]
  },
  {
   "cell_type": "code",
   "execution_count": null,
   "metadata": {},
   "outputs": [],
   "source": [
    "import os\n",
    "import sys\n",
    "\n",
    "# Add the following directories to the Python path\n",
    "sys.path.append(os.path.abspath(\"./rws-app\"))\n",
    "sys.path.append(os.path.abspath(\"../../../shared\"))\n",
    "\n",
    "# Import our utility functions\n",
    "from utils import check_and_load_environment, display_environment_variables\n",
    "\n",
    "required_vars = [\n",
    "    \"AZURE_OPENAI_ENDPOINT\",\n",
    "    \"AZURE_OPENAI_API_KEY\",\n",
    "    \"AZURE_OPENAI_MODEL_DEPLOYMENT_NAME\",\n",
    "    \"APIM_GATEWAY_URL\",\n",
    "    \"APIM_SUBSCRIPTION_KEY\",\n",
    "]\n",
    "# Make sure we have the necessary environment variables\n",
    "check_and_load_environment(required_vars)\n",
    "\n",
    "# Display the environment variables (masking sensitive ones)\n",
    "display_environment_variables()"
   ]
  },
  {
   "cell_type": "markdown",
   "metadata": {},
   "source": [
    "To use this workshop, you need to create a `.env` file with the following variables:\n",
    "\n",
    "```\n",
    "AZURE_OPENAI_ENDPOINT='[YOUR_ENDPOINT]'\n",
    "AZURE_OPENAI_API_KEY='[YOUR_API_KEY]'\n",
    "AZURE_OPENAI_MODEL_DEPLOYMENT_NAME='gpt-4o'\n",
    "APIM_GATEWAY_URL='[YOUR_APIM_GATEWAY_URL]'\n",
    "APIM_SUBSCRIPTION_KEY='[YOUR_SUBSCRIPTION_KEY]'\n",
    "```\n",
    "\n",
    "These will connect to your Azure resources, including Azure OpenAI and API Management."
   ]
  },
  {
   "cell_type": "markdown",
   "metadata": {},
   "source": [
    "## Step 2: Setting Up Semantic Kernel\n",
    "\n",
    "Now, let's set up a Semantic Kernel instance that will be the foundation for our agent system. We'll use our `kernel_setup` module to create the kernel with the appropriate AI service."
   ]
  },
  {
   "cell_type": "code",
   "execution_count": null,
   "metadata": {},
   "outputs": [],
   "source": [
    "# Import the kernel setup function\n",
    "from kernel_setup import create_kernel_with_service\n",
    "\n",
    "# Create a main kernel for our agents\n",
    "kernel = create_kernel_with_service(service_id=\"chat-completion\")\n",
    "print(\"Kernel created successfully!\")"
   ]
  },
  {
   "cell_type": "markdown",
   "metadata": {},
   "source": [
    "## Step 3: Connecting to Azure API Management\n",
    "\n",
    "Now, let's set up functions to call the API endpoints through APIM. These will be registered with our kernel and made available to the agents. \n",
    "\n",
    "The `ApiManagementPlugin` class in the `api_plugin.py` module provides:\n",
    "- A connection to the API Management gateway\n",
    "- Functions for getting weather data\n",
    "- Functions for querying SQL databases\n",
    "- Functions for retrieving sales data by region"
   ]
  },
  {
   "cell_type": "code",
   "execution_count": null,
   "metadata": {},
   "outputs": [],
   "source": [
    "# Import our API Management Plugin\n",
    "from api_plugin import ApiManagementPlugin\n",
    "\n",
    "# Create an instance of the plugin\n",
    "apim_plugin = ApiManagementPlugin()\n",
    "\n",
    "# Add to kernel\n",
    "kernel.add_plugin(apim_plugin, plugin_name=\"ApiManagement\")\n",
    "functions = kernel.get_plugin(\"ApiManagement\").functions\n",
    "print(\"API Management plugin registered with functions:\")\n",
    "print([f.name for f in functions.values()])"
   ]
  },
  {
   "cell_type": "markdown",
   "metadata": {},
   "source": [
    "Let's examine how the API plugin works. It leverages Semantic Kernel's function calling capabilities to allow LLMs to interact with external systems through API Management. This approach provides several benefits:\n",
    "\n",
    "1. **Abstraction**: The agents don't need to know the details of how APIs are implemented\n",
    "2. **Security**: API keys are managed securely through API Management\n",
    "3. **Centralization**: All API calls go through a common gateway\n",
    "4. **Monitoring**: API calls can be monitored and analyzed\n",
    "\n",
    "Each function in the plugin is decorated with `@kernel_function` and includes parameter annotations to help the LLM understand how to use them."
   ]
  },
  {
   "cell_type": "markdown",
   "metadata": {},
   "source": [
    "## Step 4: Creating Specialized Agents\n",
    "\n",
    "Now, let's create specialized agents that can perform different tasks using the functions we've registered. Each agent will have a specific role and expertise.\n",
    "\n",
    "We have defined three agents:\n",
    "1. **DataAnalyst**: Analyzes sales data and provides insights\n",
    "2. **EnvironmentalExpert**: Provides weather information and its impact on agriculture\n",
    "3. **BusinessAdvisor**: Synthesizes information and provides strategic recommendations"
   ]
  },
  {
   "cell_type": "code",
   "execution_count": null,
   "metadata": {},
   "outputs": [],
   "source": [
    "# Import our agent creation functions\n",
    "from agents import (\n",
    "    create_infrastructure_analyst_agent,\n",
    "    create_water_management_expert_agent,\n",
    "    create_strategic_advisor_agent,\n",
    "    create_knowledge_agent,\n",
    "    create_research_synthesis_agent,\n",
    ")\n",
    "\n",
    "from semantic_kernel.functions import KernelArguments\n",
    "from semantic_kernel.connectors.ai import FunctionChoiceBehavior\n",
    "\n",
    "# Create settings with auto function calling enabled\n",
    "settings = kernel.get_prompt_execution_settings_from_service_id(\n",
    "    service_id=\"chat-completion\"\n",
    ")\n",
    "\n",
    "settings.function_choice_behavior = FunctionChoiceBehavior.Auto()\n",
    "\n",
    "# Create our specialized agents\n",
    "infrastructure_analysis_agent = create_infrastructure_analyst_agent(kernel, settings)\n",
    "water_management_expert_agent = create_water_management_expert_agent(kernel, settings)\n",
    "strategic_advisor_agent = create_strategic_advisor_agent(kernel, settings)\n",
    "knowledge_agent = create_knowledge_agent(kernel, settings)\n",
    "research_synthesis_agent = create_research_synthesis_agent(kernel, settings)\n",
    "\n",
    "# Store all agents in a list for convenience\n",
    "agents = [\n",
    "    infrastructure_analysis_agent,\n",
    "    water_management_expert_agent,\n",
    "    strategic_advisor_agent,\n",
    "    knowledge_agent,\n",
    "    research_synthesis_agent,\n",
    "]\n",
    "\n",
    "print(\n",
    "    f\"Created specialized agents: {', '.join([agent.name for agent in agents])}\"\n",
    ")"
   ]
  },
  {
   "cell_type": "markdown",
   "metadata": {},
   "source": [
    "Each agent is created with specific instructions that guide its behavior:\n",
    "\n",
    "1. **DataAnalyst** focuses on retrieving and analyzing data from the SQL database\n",
    "2. **EnvironmentalExpert** specializes in weather data and its implications\n",
    "3. **BusinessAdvisor** synthesizes information and provides strategic recommendations\n",
    "\n",
    "By creating specialized agents, we can benefit from:\n",
    "- **Division of labor**: Each agent focuses on what it does best\n",
    "- **Expertise**: Specialized prompts create more expert behavior\n",
    "- **Clearer responsibilities**: Each agent has a defined role"
   ]
  },
  {
   "cell_type": "markdown",
   "metadata": {},
   "source": [
    "## Step 5: Testing Individual Agents\n",
    "\n",
    "Before creating a multi-agent system, let's test each agent individually to make sure they can perform their specialized tasks.\n",
    "Here is a list of possible questions, designed to leverage on agents' expertise and access to external data.\n",
    "\n",
    "Here are meaningful questions for each agent that leverage the SQL function endpoints:\n",
    "\n",
    "For **Infrastructure Analysis Agent**:\n",
    "1. \"Can you analyze the critical infrastructure assets in Noord-Nederland and recommend prioritization for maintenance based on safety ratings and inspection findings?\"\n",
    "2. \"What patterns do you see in safety inspection reports for bridges across different regions, and what preventive measures would you recommend?\"\n",
    "3. \"Based on the active maintenance projects and safety ratings, which infrastructure types need the most immediate attention?\"\n",
    "\n",
    "For **Water Management Expert Agent**:\n",
    "1. \"Looking at safety inspection data for water-related infrastructure in coastal regions, what trends do you notice about maintenance needs?\"\n",
    "2. \"How do safety ratings of water management assets compare across different regions, and what might explain these differences?\"\n",
    "3. \"Based on recent inspection findings, what improvements would you recommend for water infrastructure maintenance protocols?\"\n",
    "\n",
    "For **Strategic Advisor Agent**:\n",
    "1. \"Using the asset statistics and safety inspection data, what strategic recommendations would you make for long-term infrastructure investment?\"\n",
    "2. \"How should we adjust our maintenance strategy based on the distribution of critical assets across regions?\"\n",
    "3. \"What policy recommendations would you make based on the correlation between inspection frequency and safety ratings?\"\n",
    "\n",
    "For **Knowledge Agent**:\n",
    "1. \"Can you analyze the safety inspection findings across different asset types and create a knowledge base of common issues and solutions?\"\n",
    "2. \"What insights can you draw from comparing maintenance projects' priorities with their actual safety ratings?\"\n",
    "3. \"How do our infrastructure maintenance practices compare to industry best practices, based on our inspection data?\"\n",
    "\n",
    "For **Research Synthesis Agent**:\n",
    "1. \"Can you synthesize the safety inspection findings and maintenance project data to identify emerging infrastructure challenges?\"\n",
    "2. \"What research implications can you draw from the relationship between asset age and safety ratings across different infrastructure types?\"\n",
    "3. \"Based on our inspection and maintenance data, what research areas should we prioritize for improving infrastructure resilience?\""
   ]
  },
  {
   "cell_type": "code",
   "execution_count": null,
   "metadata": {},
   "outputs": [],
   "source": [
    "# Import the test_agent function\n",
    "from collaboration import test_agent\n",
    "\n",
    "# Test the Data Analyst agent\n",
    "await test_agent(infrastructure_analysis_agent, \"Can you analyze the critical infrastructure assets in Noord-Nederland and recommend prioritization for maintenance based on safety ratings and inspection findings?\")"
   ]
  },
  {
   "cell_type": "code",
   "execution_count": null,
   "metadata": {},
   "outputs": [],
   "source": [
    "# Test the Environmental Expert agent\n",
    "await test_agent(water_management_expert_agent, \"How do safety ratings of water management assets compare across different regions, and what might explain these differences?\")"
   ]
  },
  {
   "cell_type": "markdown",
   "metadata": {},
   "source": [
    "## Step 6: Setting Up Multi-Agent Collaboration - Sequential Approach\n",
    "\n",
    "Now that we've tested each agent individually, let's create a multi-agent system where agents can collaborate to solve complex problems. We'll start with a simple sequential (round-robin) approach where agents take turns in a fixed order."
   ]
  },
  {
   "cell_type": "code",
   "execution_count": null,
   "metadata": {},
   "outputs": [],
   "source": [
    "# Import the collaboration functions\n",
    "from collaboration import create_sequential_group, run_group_chat\n",
    "\n",
    "# First, create a sequential (round-robin) collaboration\n",
    "sequential_group = create_sequential_group(agents, max_iterations=6)  # 2 rounds of all 3 agents\n",
    "\n",
    "print(f\"Created a sequential group chat with {len(sequential_group.agents)} agents\")\n",
    "print(f\"Maximum iterations: {sequential_group.termination_strategy.maximum_iterations}\")"
   ]
  },
  {
   "cell_type": "code",
   "execution_count": null,
   "metadata": {},
   "outputs": [],
   "source": [
    "# Test the sequential group with a complex question\n",
    "complex_query = \"Given the current sales data and weather conditions in Europe, what strategic recommendations can you provide for our agricultural product sales in the next quarter?\"\n",
    "\n",
    "chat_history = await run_group_chat(sequential_group, complex_query)"
   ]
  },
  {
   "cell_type": "markdown",
   "metadata": {},
   "source": [
    "### Understanding the Sequential Approach\n",
    "\n",
    "In the sequential approach:\n",
    "\n",
    "1. Agents take turns in the order they were added to the group\n",
    "2. Each agent sees the full conversation history when generating its response\n",
    "3. The conversation continues until it reaches the maximum number of iterations\n",
    "\n",
    "This approach is simple and ensures each agent gets an equal opportunity to contribute. However, it may not be the most efficient for all tasks, as some tasks might benefit from a more structured workflow."
   ]
  },
  {
   "cell_type": "markdown",
   "metadata": {},
   "source": [
    "## Step 7: Creating a Custom Workflow for Specialized Collaboration\n",
    "\n",
    "Now, let's create a more tailored collaboration pattern using a custom workflow. This allows us to define exactly which agent speaks in what order, creating a process that matches our business logic."
   ]
  },
  {
   "cell_type": "code",
   "execution_count": null,
   "metadata": {},
   "outputs": [],
   "source": [
    "# Import the fixed workflow creation function\n",
    "from collaboration import create_fixed_workflow_chat\n",
    "\n",
    "# Define our specific workflow for agricultural decision-making:\n",
    "# First gather data, then analyze environmental conditions, and finally provide business recommendations\n",
    "agricultural_workflow = [\n",
    "    \"ResearchSynthesisAgent\", # First get data\n",
    "    \"WaterManagementExpert\",  # Then check environmental conditions\n",
    "    \"StrategicAdvisor\",       # Provide initial recommendations\n",
    "    \"ResearchSynthesisAgent\", # Do deeper data analysis based on recommendations\n",
    "    \"StrategicAdvisor\"        # Final strategic recommendations\n",
    "]\n",
    "\n",
    "# Create the workflow chat\n",
    "workflow_chat = create_fixed_workflow_chat(\n",
    "    agents=[research_synthesis_agent, water_management_expert_agent, strategic_advisor_agent],\n",
    "    workflow_sequence=agricultural_workflow,\n",
    "    max_iterations=len(agricultural_workflow),\n",
    ")\n",
    "\n",
    "print(f\"Created fixed workflow chat with sequence: {' → '.join(agricultural_workflow)}\")\n",
    "\n",
    "\n",
    "# # Import the fixed workflow creation function\n",
    "# from collaboration import create_fixed_workflow_chat\n",
    "\n",
    "# # Define our specific workflow for agricultural decision-making:\n",
    "# # First gather data, then analyze environmental conditions, and finally provide business recommendations\n",
    "# agricultural_workflow = [\n",
    "#     \"DataAnalyst\",          # First get sales data\n",
    "#     \"EnvironmentalExpert\",  # Then check environmental conditions\n",
    "#     \"BusinessAdvisor\",      # Provide initial recommendations\n",
    "#     \"DataAnalyst\",          # Do deeper data analysis based on recommendations\n",
    "#     \"BusinessAdvisor\"       # Final strategic recommendations\n",
    "# ]\n",
    "\n",
    "# # Create the workflow chat\n",
    "# workflow_chat = create_fixed_workflow_chat(\n",
    "#     agents=[researchSynthesisAgent, environmental_agent, advisor_agent],\n",
    "#     workflow_sequence=agricultural_workflow,\n",
    "#     max_iterations=len(agricultural_workflow),\n",
    "# )\n",
    "\n",
    "# print(f\"Created fixed workflow chat with sequence: {' → '.join(agricultural_workflow)}\")"
   ]
  },
  {
   "cell_type": "code",
   "execution_count": null,
   "metadata": {},
   "outputs": [],
   "source": [
    "# Test our custom workflow with a strategic business question\n",
    "strategic_query = \"How should we adapt our planting and distribution strategies for tomato seeds in Europe next season given current sales data and environmental trends?\"\n",
    "\n",
    "chat_history = await run_group_chat(workflow_chat, strategic_query)"
   ]
  },
  {
   "cell_type": "markdown",
   "metadata": {},
   "source": [
    "### Understanding the Custom Workflow Approach\n",
    "\n",
    "In the custom workflow approach:\n",
    "\n",
    "1. We define a specific sequence of agents that mimics a business process\n",
    "2. The workflow follows steps: data gathering → environmental analysis → initial recommendations → deeper analysis → final recommendations\n",
    "3. Each agent still sees the full conversation history\n",
    "\n",
    "This approach provides more control over the collaboration process and can lead to more predictable and structured outputs. It's particularly useful when you have a well-defined process that you want to follow."
   ]
  },
  {
   "cell_type": "markdown",
   "metadata": {},
   "source": [
    "## Step 8: Using Azure AI Agents\n",
    "\n",
    "So far, we've used Semantic Kernel's `ChatCompletionAgent` for our multi-agent system. Now, let's explore using the Azure AI Agent service, which offers additional capabilities like persistent assistants and more advanced tool integration.\n",
    "\n",
    "Azure AI Agents can be particularly useful when you need:\n",
    "- Persistent agents that maintain state across sessions\n",
    "- More complex tool calling capabilities\n",
    "- Integration with Azure's broader AI ecosystem\n",
    "\n",
    "Let's start by importing our Azure AI Agent functions:"
   ]
  },
  {
   "cell_type": "code",
   "execution_count": null,
   "metadata": {},
   "outputs": [],
   "source": [
    "# Import the Azure AI Agent functions\n",
    "from azure_ai_agent import (\n",
    "    create_data_analyst_azure_agent,\n",
    "    create_environmental_expert_azure_agent,\n",
    "    create_business_advisor_azure_agent\n",
    ")"
   ]
  },
  {
   "cell_type": "markdown",
   "metadata": {},
   "source": [
    "Now, let's define the function specifications that will be used by our Azure AI Agents. In a real implementation, you would register your functions with the Azure AI Agent service, but for demonstration purposes, we'll define them in the notebook:"
   ]
  },
  {
   "cell_type": "code",
   "execution_count": null,
   "metadata": {},
   "outputs": [],
   "source": [
    "# Define tools that will be available to the Azure AI Agents\n",
    "available_tools = [\n",
    "    {\n",
    "        \"type\": \"function\",\n",
    "        \"function\": {\n",
    "            \"name\": \"get_weather\",\n",
    "            \"description\": \"Get weather information for a location\",\n",
    "            \"parameters\": {\n",
    "                \"type\": \"object\",\n",
    "                \"properties\": {\n",
    "                    \"location\": {\n",
    "                        \"type\": \"string\",\n",
    "                        \"description\": \"The location to get weather for (city name)\"\n",
    "                    },\n",
    "                    \"unit\": {\n",
    "                        \"type\": \"string\",\n",
    "                        \"description\": \"Temperature unit: 'celsius' or 'fahrenheit'\",\n",
    "                        \"default\": \"celsius\"\n",
    "                    }\n",
    "                },\n",
    "                \"required\": [\"location\"]\n",
    "            }\n",
    "        }\n",
    "    },\n",
    "    {\n",
    "        \"type\": \"function\",\n",
    "        \"function\": {\n",
    "            \"name\": \"execute_sql_query\",\n",
    "            \"description\": \"Execute a SQL query against the database\",\n",
    "            \"parameters\": {\n",
    "                \"type\": \"object\",\n",
    "                \"properties\": {\n",
    "                    \"query\": {\n",
    "                        \"type\": \"string\",\n",
    "                        \"description\": \"The SQL query to execute\"\n",
    "                    }\n",
    "                },\n",
    "                \"required\": [\"query\"]\n",
    "            }\n",
    "        }\n",
    "    },\n",
    "    {\n",
    "        \"type\": \"function\",\n",
    "        \"function\": {\n",
    "            \"name\": \"get_sales_by_region\",\n",
    "            \"description\": \"Get sales data for a specific region\",\n",
    "            \"parameters\": {\n",
    "                \"type\": \"object\",\n",
    "                \"properties\": {\n",
    "                    \"region_name\": {\n",
    "                        \"type\": \"string\",\n",
    "                        \"description\": \"Optional name of the region to filter by\"\n",
    "                    }\n",
    "                }\n",
    "            }\n",
    "        }\n",
    "    }\n",
    "]"
   ]
  },
  {
   "cell_type": "markdown",
   "metadata": {},
   "source": [
    "Now, let's create our specialized Azure AI Agents:"
   ]
  },
  {
   "cell_type": "code",
   "execution_count": null,
   "metadata": {},
   "outputs": [],
   "source": [
    "try:\n",
    "    # Create specialized Azure AI Agents\n",
    "    print(\"Creating specialized Azure AI Agents...\")\n",
    "    data_analyst_azure = create_data_analyst_azure_agent(tools=available_tools)\n",
    "    environmental_expert_azure = create_environmental_expert_azure_agent(tools=[available_tools[0]])  # Only weather tool\n",
    "    business_advisor_azure = create_business_advisor_azure_agent()  # No tools, just synthesizes information\n",
    "    \n",
    "    # Store all agents in a list for convenience\n",
    "    azure_agents = [data_analyst_azure, environmental_expert_azure, business_advisor_azure]\n",
    "    \n",
    "    print(\"Azure AI Agents created successfully!\")\n",
    "except Exception as e:\n",
    "    print(f\"Error creating Azure AI Agents: {str(e)}\")\n",
    "    print(\"This part of the workshop requires setting up Azure AI Agent resources. Check the Azure AI Services docs for more details.\")"
   ]
  },
  {
   "cell_type": "markdown",
   "metadata": {},
   "source": [
    "### Testing Azure AI Agents\n",
    "\n",
    "If you've successfully created the Azure AI Agents, you can test them individually. If not, please refer to the Azure AI Agent setup documentation and review the `run_azure_agents.py` script for a complete demonstration."
   ]
  },
  {
   "cell_type": "code",
   "execution_count": null,
   "metadata": {},
   "outputs": [],
   "source": [
    "# Define a test function for Azure AI Agents\n",
    "async def test_azure_agent(agent, prompt):\n",
    "    \"\"\"Test an individual Azure AI Agent with a prompt.\n",
    "    \n",
    "    Args:\n",
    "        agent: The Azure AI Agent to test\n",
    "        prompt: The prompt to send to the agent\n",
    "    \"\"\"\n",
    "    print(f\"\\n=== Testing Azure Agent: {agent.assistant_params.get('display_name', 'Unknown')} ===\\n\")\n",
    "    print(f\"User: {prompt}\\n\")\n",
    "    \n",
    "    # Get response from the agent\n",
    "    response = await agent.invoke(prompt=prompt)\n",
    "    \n",
    "    print(f\"Agent: {response}\\n\")\n",
    "    print(\"=== Test Complete ===\\n\")\n",
    "    \n",
    "    return response\n",
    "\n",
    "# Try to test the Azure AI Agents\n",
    "try:\n",
    "    await test_azure_agent(data_analyst_azure, \"Show me the total sales for each region.\")\n",
    "except NameError:\n",
    "    print(\"Azure AI Agents not available. Skipping test.\")\n",
    "except Exception as e:\n",
    "    print(f\"Error testing Azure AI Agent: {str(e)}\")"
   ]
  },
  {
   "cell_type": "markdown",
   "metadata": {},
   "source": [
    "### Comparing Semantic Kernel Agents and Azure AI Agents\n",
    "\n",
    "Both Semantic Kernel Agents and Azure AI Agents offer powerful capabilities for building agent systems, but they have different strengths:\n",
    "\n",
    "**Semantic Kernel Agents**:\n",
    "- **Flexibility**: More control over the agent architecture and behavior\n",
    "- **Local state management**: Easier to integrate with your application state\n",
    "- **MultiAgent orchestration**: Built-in support for agent collaboration\n",
    "- **Open-source**: Can be customized and extended as needed\n",
    "\n",
    "**Azure AI Agents**:\n",
    "- **Persistence**: Agents and their state persist across sessions\n",
    "- **Managed service**: Less code to maintain, more robust\n",
    "- **Advanced capabilities**: Built-in features like file handling, code execution\n",
    "- **Scalability**: Handles concurrent users more easily\n",
    "\n",
    "### Combining Both Approaches\n",
    "\n",
    "For many applications, a hybrid approach works best:\n",
    "\n",
    "1. Use **Azure AI Agents** for persistent assistants that need rich tool integration\n",
    "2. Use **Semantic Kernel Agents** for orchestrating collaboration between multiple agents\n",
    "3. Combine them by using Semantic Kernel's integration with Azure AI Agents"
   ]
  },
  {
   "cell_type": "markdown",
   "metadata": {},
   "source": [
    "## Step 8: Building Advanced Multi-Agent Systems for Real-World Applications\n",
    "\n",
    "The techniques demonstrated in this workshop can be extended to build sophisticated multi-agent systems for various enterprise scenarios. Here are some ways to develop this further:\n",
    "\n",
    "### Enhanced Analytics for Agricultural Data\n",
    "\n",
    "1. **Time-Series Analysis**: Build agents that can analyze seasonal patterns in agricultural data\n",
    "2. **Predictive Models**: Create specialized agents for crop yield prediction based on historical data\n",
    "3. **Market Analysis**: Integrate with commodity market data for pricing strategy recommendations\n",
    "4. **Risk Assessment**: Develop agents focused on identifying risks (weather, disease, market fluctuations)\n",
    "\n",
    "### Deployment Options\n",
    "\n",
    "The system can be deployed in various ways:\n",
    "\n",
    "1. **Web Application**: Expose the multi-agent system through a web interface\n",
    "2. **API Service**: Provide the multi-agent capabilities as an API service\n",
    "3. **Integration with Existing Systems**: Connect with ERP, CRM, or other enterprise systems\n",
    "4. **Mobile Applications**: Extend access to field workers through mobile apps\n",
    "\n",
    "### Next Steps\n",
    "\n",
    "To build a production-ready system, consider:\n",
    "\n",
    "1. **Agent Persistence**: Implement a database to store agent states and conversation history\n",
    "2. **Authentication & Authorization**: Add security layers for different users and roles\n",
    "3. **Logging & Monitoring**: Implement comprehensive logging for all agent actions\n",
    "4. **Error Handling**: Create robust error handling and recovery mechanisms\n",
    "5. **Testing & Validation**: Develop thorough testing protocols for your multi-agent system\n",
    "6. **Scalability**: Design the system to handle increased load and more complex queries"
   ]
  },
  {
   "cell_type": "markdown",
   "metadata": {},
   "source": [
    "## Conclusion\n",
    "\n",
    "In this workshop, we've built a complete multi-agent system that leverages Semantic Kernel, Azure AI Agents, and Azure API Management to create a powerful, flexible architecture.\n",
    "\n",
    "We've covered:\n",
    "\n",
    "1. Setting up a Semantic Kernel with Azure OpenAI\n",
    "2. Creating API Management plugins for function calling\n",
    "3. Designing specialized agents with different roles\n",
    "4. Implementing different collaboration strategies between agents\n",
    "5. Building custom workflows for domain-specific processes\n",
    "6. Integrating Azure AI Agents for enhanced capabilities\n",
    "\n",
    "The code is organized into maintainable modules in the `rws-app` directory, making it easy to extend and customize for your specific needs.\n",
    "\n",
    "For further exploration, you can:\n",
    "- Add more agents with different specializations\n",
    "- Implement more complex workflow patterns\n",
    "- Connect to additional APIs through API Management\n",
    "- Expand the system with more sophisticated reasoning capabilities\n",
    "\n",
    "The combination of Semantic Kernel's agent architecture, Azure AI Agents, and Azure API Management's function calling capabilities provides a powerful foundation for building intelligent, multi-agent systems that can solve complex real-world problems."
   ]
  }
 ],
 "metadata": {
  "kernelspec": {
   "display_name": "venv",
   "language": "python",
   "name": "python3"
  },
  "language_info": {
   "codemirror_mode": {
    "name": "ipython",
    "version": 3
   },
   "file_extension": ".py",
   "mimetype": "text/x-python",
   "name": "python",
   "nbconvert_exporter": "python",
   "pygments_lexer": "ipython3",
   "version": "3.11.9"
  }
 },
 "nbformat": 4,
 "nbformat_minor": 2
}
