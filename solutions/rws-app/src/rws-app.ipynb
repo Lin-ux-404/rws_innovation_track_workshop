{
 "cells": [
  {
   "cell_type": "markdown",
   "metadata": {},
   "source": [
    "# Multi-Agent Architecture with Semantic Kernel and Azure API Management\n",
    "\n",
    "## Workshop for RWS: Building a Proof of Concept\n",
    "\n",
    "This workshop guides you through building a multi-agent architecture that leverages Semantic Kernel for orchestrating agents and Azure API Management (APIM) as an AI Gateway for function calling against backend services like Azure Functions and databases.\n",
    "\n",
    "### Architecture Overview\n",
    "\n",
    "```\n",
    "┌─────────────────┐     ┌───────────────┐     ┌─────────────────┐     ┌────────────────┐\n",
    "│                 │     │               │     │                 │     │                │\n",
    "│  Semantic Kernel│     │  Azure API    │     │  Integration    │     │  Data Sources  │\n",
    "│  Multi-Agents   │────▶│  Management   │────▶│  Services       │────▶│              │\n",
    "│                 │     │  (AI Gateway) │     │  (Functions)    │     │                │\n",
    "└─────────────────┘     └───────────────┘     └─────────────────┘     └────────────────┘\n",
    "```\n",
    "\n",
    "### What You'll Learn\n",
    "\n",
    "1. How to set up Semantic Kernel with multiple specialized agents\n",
    "2. How to connect agents to Azure API Management for function calling\n",
    "3. How to orchestrate agent collaboration using different strategies\n",
    "5. How to build specialized agents performing different tasks (RAG with AI Search, function calling, etc.)\n",
    "\n",
    "### Implementation Approach\n",
    "\n",
    "The implementation code is organized into Python modules in the `rws-app` directory for better maintainability and reuse. This notebook will focus on explaining concepts and demonstrating how to use these modules.\n",
    "\n",
    "Let's begin."
   ]
  },
  {
   "cell_type": "markdown",
   "metadata": {},
   "source": [
    "## Step 1: Environment Setup and Prerequisites\n",
    "\n",
    "First, let's install the necessary packages and set up our environment. We'll need Semantic Kernel and other supporting libraries."
   ]
  },
  {
   "cell_type": "code",
   "execution_count": null,
   "metadata": {},
   "outputs": [],
   "source": [
    "# Install required packages\n",
    "! pip install -r requirements.txt"
   ]
  },
  {
   "cell_type": "markdown",
   "metadata": {},
   "source": [
    "We'll use Python modules from the `rws-app` directory to organize our code.\n",
    "\n",
    "To use this workshop, you need to create a `.env` file with the following variables:\n",
    "\n",
    "```\n",
    "AZURE_OPENAI_ENDPOINT='[YOUR_ENDPOINT]'\n",
    "AZURE_OPENAI_API_KEY='[YOUR_API_KEY]'\n",
    "AZURE_OPENAI_MODEL_DEPLOYMENT_NAME='gpt-4o-mini'\n",
    "AZURE_OPENAI_EMBEDDING_DEPLOYMENT_NAME='embedding-ada-002'\n",
    "\n",
    "APIM_GATEWAY_URL='[YOUR_APIM_GATEWAY_URL]'\n",
    "APIM_SUBSCRIPTION_KEY='[YOUR_SUBSCRIPTION_KEY]'\n",
    "\n",
    "\"RAG_STORAGE_CONNECTION_STRING\"='[RAG_STORAGE_CONNECTION_STRING]'\n",
    "\"RAG_DOCUMENTS_CONTAINER_NAME\"='[RAG_DOCUMENTS_CONTAINER_NAME]',\n",
    "\n",
    "\"SEARCH_SERVICE_ENDPOINT\"='[AI_SEARCH_ENDPOINT]',\n",
    "\"SEARCH_SERVICE_ADMIN_KEY\"='[AI_SEARCH_KEY]',\n",
    "\"SEARCH_INDEX_NAME\"='[AI_SEARCH_INDEX]',\n",
    "\"SEARCH_SEMANTIC_CONFIG\"='[AI_SEARCH_SEMANTIC_CONFIG]'\n",
    "\n",
    "```\n",
    "\n",
    "These will connect to your Azure resources, including Azure OpenAI and API Management."
   ]
  },
  {
   "cell_type": "code",
   "execution_count": null,
   "metadata": {},
   "outputs": [],
   "source": [
    "import os\n",
    "import sys\n",
    "\n",
    "# Add the following directories to the Python path\n",
    "sys.path.append(os.path.abspath(\"./rws-app\"))\n",
    "sys.path.append(os.path.abspath(\"../../../shared\"))\n",
    "\n",
    "# Import our utility functions\n",
    "from utils import check_and_load_environment, display_environment_variables\n",
    "\n",
    "required_vars = [\n",
    "    \"AZURE_OPENAI_ENDPOINT\",\n",
    "    \"AZURE_OPENAI_API_KEY\",\n",
    "    \"AZURE_OPENAI_MODEL_DEPLOYMENT_NAME\",\n",
    "    \"AZURE_OPENAI_EMBEDDING_DEPLOYMENT_NAME\",\n",
    "    \n",
    "    \"APIM_GATEWAY_URL\",\n",
    "    \"APIM_SUBSCRIPTION_KEY\",\n",
    "    \n",
    "    \"RAG_STORAGE_CONNECTION_STRING\",\n",
    "    \"RAG_DOCUMENTS_CONTAINER_NAME\",\n",
    "    \n",
    "    \"SEARCH_SERVICE_ENDPOINT\",\n",
    "    \"SEARCH_SERVICE_ADMIN_KEY\",\n",
    "    \"SEARCH_INDEX_NAME\",\n",
    "    \"SEARCH_SEMANTIC_CONFIG\"\n",
    "]\n",
    "# Make sure we have the necessary environment variables\n",
    "check_and_load_environment(required_vars)\n",
    "\n",
    "# Display the environment variables (masking sensitive ones)\n",
    "display_environment_variables()"
   ]
  },
  {
   "cell_type": "markdown",
   "metadata": {},
   "source": [
    "## Step 2: Setting Up Semantic Kernel\n",
    "\n",
    "Now, let's set up a Semantic Kernel instance that will be the foundation for our agent system. We'll use our `kernel_setup` module to create the kernel with the appropriate AI service."
   ]
  },
  {
   "cell_type": "code",
   "execution_count": null,
   "metadata": {},
   "outputs": [],
   "source": [
    "# Import the kernel setup function\n",
    "from kernel_setup import create_kernel_with_service\n",
    "\n",
    "# Create a main kernel for our agents\n",
    "kernel = create_kernel_with_service(service_id=\"chat-completion\")\n",
    "print(\"Kernel created successfully!\")"
   ]
  },
  {
   "cell_type": "markdown",
   "metadata": {},
   "source": [
    "## Step 3: Adding Plugins\n",
    "\n",
    "### Connecting to Azure API Management\n",
    "\n",
    "Now, let's set up functions to call the API endpoints through APIM. These will be registered with our kernel and made available to the agents. \n",
    "\n",
    "The `ApiManagementPlugin` class in the `api_plugin.py` module provides:\n",
    "- A connection to the API Management gateway\n",
    "- Functions for getting weather data\n",
    "- Functions for querying SQL databases\n",
    "- Functions for retrieving sales data by region"
   ]
  },
  {
   "cell_type": "code",
   "execution_count": null,
   "metadata": {},
   "outputs": [],
   "source": [
    "from api_plugin import ApiManagementPlugin\n",
    "\n",
    "# Create an instance of the plugin\n",
    "apim_plugin = ApiManagementPlugin()\n",
    "\n",
    "# Add to kernel\n",
    "kernel.add_plugin(apim_plugin, plugin_name=\"ApiManagement\")\n",
    "functions = kernel.get_plugin(\"ApiManagement\").functions\n",
    "print(\"RAG plugin registered with functions:\")\n",
    "print([f.name for f in functions.values()])"
   ]
  },
  {
   "cell_type": "markdown",
   "metadata": {},
   "source": [
    "### Connecting to AI Search & Blob Storage\n",
    "\n",
    "Next, let's connect our agents to Azure AI Search and Azure Blob Storage using the RAG (Retrieval Augmented Generation) plugin. The plugin can be found in the `RAGPlugin` class inside the `rag_plugin.py`. This plugin enables our agents to:\n",
    "\n",
    "- Search for information in a knowledge base stored in Azure Blob Storage\n",
    "- Use both keyword and semantic search capabilities of Azure AI Search\n",
    "- Retrieve relevant documents with their metadata\n",
    "- Enhance responses with specific domain knowledge\n",
    "\n",
    "The RAG pattern improves agent responses by retrieving relevant domain-specific information before generating answers."
   ]
  },
  {
   "cell_type": "code",
   "execution_count": null,
   "metadata": {},
   "outputs": [],
   "source": [
    "from rag_plugin import RAGPlugin\n",
    "\n",
    "kernel.add_plugin(RAGPlugin(), plugin_name=\"RAGPlugin\")\n",
    "\n",
    "functions = kernel.get_plugin(\"RAGPlugin\").functions\n",
    "print(\"RAG plugin registered with functions:\")\n",
    "print([f.name for f in functions.values()])"
   ]
  },
  {
   "cell_type": "markdown",
   "metadata": {},
   "source": [
    "Let's examine how the API plugin works. It leverages Semantic Kernel's function calling capabilities to allow LLMs to interact with external systems through API Management. This approach provides several benefits:\n",
    "\n",
    "1. **Abstraction**: The agents don't need to know the details of how APIs are implemented\n",
    "2. **Security**: API keys are managed securely through API Management\n",
    "3. **Centralization**: All API calls go through a common gateway\n",
    "4. **Monitoring**: API calls can be monitored and analyzed\n",
    "\n",
    "Each function in the plugin is decorated with `@kernel_function` and includes parameter annotations to help the LLM understand how to use them."
   ]
  },
  {
   "cell_type": "markdown",
   "metadata": {},
   "source": [
    "## Step 4: Creating Specialized Agents\n",
    "\n",
    "Now, let's create specialized agents that can perform different tasks using the functions we've registered. Each agent will have a specific role and expertise.\n",
    "\n",
    "We have defined five agents:\n",
    "\n",
    "1. __InfrastructureAnalyst__: Analyzes Dutch infrastructure assets and their safety conditions, monitors critical infrastructure, reviews maintenance projects, and provides recommendations for improvements\n",
    "\n",
    "2. __WaterManagementExpert__: Specializes in Dutch water infrastructure and flood protection systems, monitoring water management infrastructure status and assessing impacts of weather conditions\n",
    "\n",
    "3. __StrategicAdvisor__: Provides long-term infrastructure recommendations, synthesizing information and considering climate change impacts while focusing on sustainable solutions\n",
    "\n",
    "4. __KnowledgeAgent__: Acts as a research assistant retrieving information from the knowledge base\n",
    "\n",
    "5. __ResearchSynthesisAgent__: Combines historical knowledge with current infrastructure data to analyze trends, evaluate intervention effectiveness, and recommend evidence-based improvements\n"
   ]
  },
  {
   "cell_type": "code",
   "execution_count": null,
   "metadata": {},
   "outputs": [],
   "source": [
    "# Import our agent creation functions\n",
    "from agents import (\n",
    "    create_infrastructure_analyst_agent,\n",
    "    create_water_management_expert_agent,\n",
    "    create_strategic_advisor_agent,\n",
    "    create_knowledge_agent,\n",
    "    create_research_synthesis_agent,\n",
    ")\n",
    "\n",
    "from semantic_kernel.connectors.ai import FunctionChoiceBehavior\n",
    "\n",
    "# Create settings with auto function calling enabled\n",
    "settings = kernel.get_prompt_execution_settings_from_service_id(\n",
    "    service_id=\"chat-completion\"\n",
    ")\n",
    "\n",
    "settings.function_choice_behavior = FunctionChoiceBehavior.Auto()\n",
    "\n",
    "# Create our specialized agents\n",
    "infrastructure_analysis_agent = create_infrastructure_analyst_agent(kernel, settings)\n",
    "water_management_expert_agent = create_water_management_expert_agent(kernel, settings)\n",
    "strategic_advisor_agent = create_strategic_advisor_agent(kernel, settings)\n",
    "knowledge_agent = create_knowledge_agent(kernel, settings)\n",
    "research_synthesis_agent = create_research_synthesis_agent(kernel, settings)\n",
    "\n",
    "# Store all agents in a list for convenience\n",
    "agents = [\n",
    "    infrastructure_analysis_agent,\n",
    "    water_management_expert_agent,\n",
    "    strategic_advisor_agent,\n",
    "    knowledge_agent,\n",
    "    research_synthesis_agent,\n",
    "]\n",
    "\n",
    "print(\n",
    "    f\"Created specialized agents: {', '.join([agent.name for agent in agents])}\"\n",
    ")"
   ]
  },
  {
   "cell_type": "markdown",
   "metadata": {},
   "source": [
    "Each agent is created with specific instructions that guide its behavior.\n",
    "By creating specialized agents, we can benefit from:\n",
    "- **Division of labor**: Each agent focuses on what it does best\n",
    "- **Expertise**: Specialized prompts create more expert behavior\n",
    "- **Clearer responsibilities**: Each agent has a defined role"
   ]
  },
  {
   "cell_type": "markdown",
   "metadata": {},
   "source": [
    "## Step 5: Testing Individual Agents\n",
    "\n",
    "Before creating a multi-agent system, let's test each agent individually to make sure they can perform their specialized tasks.\n",
    "Here is a list of possible questions, designed to leverage on agents' expertise and access to external data.\n",
    "\n",
    "Here are meaningful questions for each agent that leverage the SQL function endpoints:\n",
    "\n",
    "For **Infrastructure Analysis Agent**:\n",
    "1. \"Can you analyze the critical infrastructure assets in Noord-Nederland and recommend prioritization for maintenance based on safety ratings and inspection findings?\"\n",
    "2. \"What patterns do you see in safety inspection reports for bridges across different regions, and what preventive measures would you recommend?\"\n",
    "3. \"Based on the active maintenance projects and safety ratings, which infrastructure types need the most immediate attention?\"\n",
    "\n",
    "For **Water Management Expert Agent**:\n",
    "1. \"Looking at safety inspection data for water-related infrastructure in coastal regions, what trends do you notice about maintenance needs?\"\n",
    "2. \"How do safety ratings of water management assets compare across different regions, and what might explain these differences?\"\n",
    "3. \"Based on recent inspection findings, what improvements would you recommend for water infrastructure maintenance protocols?\"\n",
    "\n",
    "For **Strategic Advisor Agent**:\n",
    "1. \"Using the asset statistics and safety inspection data, what strategic recommendations would you make for long-term infrastructure investment?\"\n",
    "2. \"How should we adjust our maintenance strategy based on the distribution of critical assets across regions?\"\n",
    "3. \"What policy recommendations would you make based on the correlation between inspection frequency and safety ratings?\"\n",
    "\n",
    "For **Knowledge Agent**:\n",
    "1. \"What were the key findings from the survey on cooperative systems for road operators?\"\n",
    "2. \"What insights can you draw from comparing maintenance projects' priorities with their actual safety ratings?\"\n",
    "3. \"What can you tell me about Asphalt paving at temperatures below freezing according to the Dutch Highways Authority?\"\n",
    "\n",
    "For **Research Synthesis Agent**:\n",
    "1. \"Can you synthesize the safety inspection findings and maintenance project data to identify emerging infrastructure challenges?\"\n",
    "2. \"What research implications can you draw from the relationship between asset age and safety ratings across different infrastructure types?\"\n",
    "3. \"Based on our inspection and maintenance data, what research areas should we prioritize for improving infrastructure resilience?\""
   ]
  },
  {
   "cell_type": "code",
   "execution_count": null,
   "metadata": {},
   "outputs": [],
   "source": [
    "# Import the test_agent function\n",
    "from collaboration import test_agent\n",
    "\n",
    "# Test the Data Analyst agent\n",
    "await test_agent(infrastructure_analysis_agent, \"Can you analyze the critical infrastructure assets in Noord-Nederland and recommend prioritization for maintenance based on safety ratings and inspection findings?\")"
   ]
  },
  {
   "cell_type": "markdown",
   "metadata": {},
   "source": [
    "The **knowledge agent** is meant to search the knowledge base for relevant information. The knowledge base for this lab consists of 4 documents related to road maintanance found on the `https://open.rijkswaterstaat.nl/` website. \n",
    "- [Life-prolonging preventive maintenance techniques for porous asphalt](https://open.rijkswaterstaat.nl/zoeken/@55493/life-prolonging-preventive-maintenance/)\n",
    "- [Innovatie Projecten Wegonderhoud](https://open.rijkswaterstaat.nl/zoeken/@215119/innovatieprojecten-wegonderhoud-ipw-road/#highlight=road%20maintenance)\n",
    "- [Asphalt paving at temperatures below freezing](https://open.rijkswaterstaat.nl/zoeken/@205619/asphalt-paving-at-temperatures-below/#highlight=road%20maintenance)\n",
    "- [Analysis for the road operators : results from a survey](https://open.rijkswaterstaat.nl/zoeken/@32834/analysis-for-the-road-operators-results/#highlight=road%20maintenance)\n",
    "\n",
    "These files have been stored in a blob storage and indexed via AI Search. A local copy of these files can be found in the data folder. Try asking it questions about the contents of those files!"
   ]
  },
  {
   "cell_type": "code",
   "execution_count": null,
   "metadata": {},
   "outputs": [],
   "source": [
    "await test_agent(knowledge_agent, \"What can you tell me about Asphalt paving at temperatures below freezing according to the Dutch Highways Authority?\")"
   ]
  },
  {
   "cell_type": "markdown",
   "metadata": {},
   "source": [
    "## Step 6: Setting Up Multi-Agent Collaboration - Sequential Approach\n",
    "\n",
    "Now that we've tested each agent individually, let's create a multi-agent system where agents can collaborate to solve complex problems. We'll start with a simple sequential (round-robin) approach where agents take turns in a fixed order."
   ]
  },
  {
   "cell_type": "code",
   "execution_count": null,
   "metadata": {},
   "outputs": [],
   "source": [
    "# Import the collaboration functions\n",
    "from collaboration import create_sequential_group, run_group_chat\n",
    "\n",
    "# First, create a sequential (round-robin) collaboration\n",
    "sequential_group = create_sequential_group(agents, max_iterations=5)\n",
    "\n",
    "print(f\"Created a sequential group chat with {len(sequential_group.agents)} agents\")\n",
    "print(f\"Maximum iterations: {sequential_group.termination_strategy.maximum_iterations}\")"
   ]
  },
  {
   "cell_type": "code",
   "execution_count": null,
   "metadata": {},
   "outputs": [],
   "source": [
    "# Test the sequential group with a complex question\n",
    "complex_query = \"What are the critical infrastructure maintenance priorities for flood protection in Noord-Nederland for the next year, considering recent safety inspections, historical maintenance data, and climate impact predictions?\"\n",
    "\n",
    "chat_history = await run_group_chat(sequential_group, complex_query)"
   ]
  },
  {
   "cell_type": "markdown",
   "metadata": {},
   "source": [
    "### Understanding the Sequential Approach\n",
    "\n",
    "In the sequential approach:\n",
    "\n",
    "1. Agents take turns in the order they were added to the group\n",
    "2. Each agent sees the full conversation history when generating its response\n",
    "3. The conversation continues until it reaches the maximum number of iterations\n",
    "\n",
    "This approach is simple and ensures each agent gets an equal opportunity to contribute. However, it may not be the most efficient for all tasks, as some tasks might benefit from a more structured workflow."
   ]
  },
  {
   "cell_type": "markdown",
   "metadata": {},
   "source": [
    "## Step 7: Creating a Custom Workflow for Specialized Collaboration\n",
    "\n",
    "Now, let's create a more tailored collaboration pattern using a custom workflow. This allows us to define exactly which agent speaks in what order, creating a process that matches our business logic."
   ]
  },
  {
   "cell_type": "code",
   "execution_count": null,
   "metadata": {},
   "outputs": [],
   "source": [
    "# Import the fixed workflow creation function\n",
    "from collaboration import create_fixed_workflow_chat\n",
    "\n",
    "# Define our specific workflow for agricultural decision-making:\n",
    "# First gather data, then analyze environmental conditions, and finally provide business recommendations\n",
    "agricultural_workflow = [\n",
    "    \"KnowledgeAgent\", # First get data\n",
    "    \"WaterManagementExpert\",  # Then check environmental conditions\n",
    "    \"StrategicAdvisor\",       # Provide initial recommendations\n",
    "    \"KnowledgeAgent\", # Do deeper data analysis based on recommendations\n",
    "    \"StrategicAdvisor\"        # Final strategic recommendations\n",
    "]\n",
    "\n",
    "# Create the workflow chat\n",
    "workflow_chat = create_fixed_workflow_chat(\n",
    "    agents=[knowledge_agent, water_management_expert_agent, strategic_advisor_agent],\n",
    "    workflow_sequence=agricultural_workflow,\n",
    "    max_iterations=len(agricultural_workflow),\n",
    ")\n",
    "\n",
    "print(f\"Created fixed workflow chat with sequence: {' → '.join(agricultural_workflow)}\")\n"
   ]
  },
  {
   "cell_type": "code",
   "execution_count": null,
   "metadata": {},
   "outputs": [],
   "source": [
    "# Test our custom workflow with a strategic business question\n",
    "strategic_query = \"How should we adapt our maintenance strategy for coastal flood defense systems in the Netherlands, considering historical performance data, current water management practices, and future climate predictions?\"\n",
    "\n",
    "chat_history = await run_group_chat(workflow_chat, strategic_query)"
   ]
  },
  {
   "cell_type": "markdown",
   "metadata": {},
   "source": [
    "### Understanding the Custom Workflow Approach\n",
    "\n",
    "In the custom workflow approach:\n",
    "\n",
    "1. We define a specific sequence of agents that mimics a business process\n",
    "2. The workflow follows steps: data gathering → environmental analysis → initial recommendations → deeper analysis → final recommendations\n",
    "3. Each agent still sees the full conversation history\n",
    "\n",
    "This approach provides more control over the collaboration process and can lead to more predictable and structured outputs. It's particularly useful when you have a well-defined process that you want to follow."
   ]
  },
  {
   "cell_type": "markdown",
   "metadata": {},
   "source": [
    "## Conclusion\n",
    "\n",
    "In this workshop, we've built a complete multi-agent system that leverages Semantic Kernel to create a powerful and flexible architecture.\n",
    "\n",
    "We've covered:\n",
    "\n",
    "1. Setting up a Semantic Kernel with Azure OpenAI\n",
    "2. Creating API Management plugins for function calling\n",
    "3. Designing specialized agents with different roles\n",
    "4. Implementing different collaboration strategies between agents\n",
    "5. Building custom workflows for domain-specific processes\n",
    "6. Integrating Azure AI Agents for enhanced capabilities\n",
    "\n",
    "The code is organized into maintainable modules in the `rws-app` directory, making it easy to extend and customize for your specific needs.\n",
    "\n",
    "For further exploration, you can:\n",
    "- Add more agents with different specializations\n",
    "- Implement more complex workflow patterns\n",
    "- Connect to additional APIs through API Management\n",
    "- Expand the system with more sophisticated reasoning capabilities"
   ]
  }
 ],
 "metadata": {
  "kernelspec": {
   "display_name": "Python 3",
   "language": "python",
   "name": "python3"
  },
  "language_info": {
   "codemirror_mode": {
    "name": "ipython",
    "version": 3
   },
   "file_extension": ".py",
   "mimetype": "text/x-python",
   "name": "python",
   "nbconvert_exporter": "python",
   "pygments_lexer": "ipython3",
   "version": "3.11.9"
  }
 },
 "nbformat": 4,
 "nbformat_minor": 2
}
