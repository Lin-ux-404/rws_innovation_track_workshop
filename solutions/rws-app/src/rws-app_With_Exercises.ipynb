{
 "cells": [
  {
   "cell_type": "markdown",
   "metadata": {},
   "source": [
    "# Multi-Agent Architecture with Semantic Kernel and Azure API Management\n",
    "\n",
    "## Workshop for RWS: Building a Proof of Concept\n",
    "\n",
    "This workshop guides you through building a multi-agent architecture that leverages Semantic Kernel for orchestrating agents and Azure API Management (APIM) as an AI Gateway for function calling against backend services like Azure Functions and databases.\n",
    "\n",
    "### Architecture Overview\n",
    "\n",
    "```\n",
    "┌─────────────────┐     ┌───────────────┐     ┌─────────────────┐     ┌────────────────┐\n",
    "│                 │     │               │     │                 │     │                │\n",
    "│  Semantic Kernel│     │  Azure API    │     │  Integration    │     │  Data Sources  │\n",
    "│  Multi-Agents   │────▶│  Management   │────▶│  Services       │────▶│              │\n",
    "│                 │     │  (AI Gateway) │     │  (Functions)    │     │                │\n",
    "└─────────────────┘     └───────────────┘     └─────────────────┘     └────────────────┘\n",
    "```\n",
    "\n",
    "### What You'll Learn\n",
    "\n",
    "1. How to set up Semantic Kernel with multiple specialized agents\n",
    "2. How to connect agents to Azure API Management for function calling\n",
    "3. How to orchestrate agent collaboration using different strategies\n",
    "5. How to build specialized agents performing different tasks (RAG with AI Search, function calling, etc.)\n",
    "\n",
    "### Implementation Approach\n",
    "\n",
    "The implementation code is organized into Python modules in the `rws-app` directory for better maintainability and reuse. This notebook will focus on explaining concepts and demonstrating how to use these modules.\n",
    "\n",
    "Let's begin."
   ]
  },
  {
   "cell_type": "markdown",
   "metadata": {},
   "source": [
    "## Step 1: Environment Setup and Prerequisites\n",
    "\n",
    "First, let's install the necessary packages and set up our environment. We'll need Semantic Kernel and other supporting libraries."
   ]
  },
  {
   "cell_type": "code",
   "execution_count": 17,
   "metadata": {},
   "outputs": [
    {
     "name": "stdout",
     "output_type": "stream",
     "text": [
      "Defaulting to user installation because normal site-packages is not writeable\n",
      "Requirement already satisfied: semantic-kernel==1.29.0 in c:\\users\\alvanakievi\\appdata\\roaming\\python\\python311\\site-packages (1.29.0)\n",
      "Requirement already satisfied: azure-identity in c:\\users\\alvanakievi\\appdata\\roaming\\python\\python311\\site-packages (1.21.0)\n",
      "Requirement already satisfied: python-dotenv in c:\\users\\alvanakievi\\appdata\\roaming\\python\\python311\\site-packages (1.1.0)\n",
      "Requirement already satisfied: requests in c:\\users\\alvanakievi\\appdata\\roaming\\python\\python311\\site-packages (2.32.3)\n",
      "Requirement already satisfied: pyodbc in c:\\users\\alvanakievi\\appdata\\roaming\\python\\python311\\site-packages (5.2.0)\n",
      "Requirement already satisfied: azure-storage-blob in c:\\users\\alvanakievi\\appdata\\roaming\\python\\python311\\site-packages (12.25.1)\n",
      "Collecting azure-search-documents\n",
      "  Downloading azure_search_documents-11.5.2-py3-none-any.whl.metadata (23 kB)\n",
      "Requirement already satisfied: aiohttp~=3.8 in c:\\users\\alvanakievi\\appdata\\roaming\\python\\python311\\site-packages (from semantic-kernel==1.29.0) (3.11.18)\n",
      "Requirement already satisfied: cloudevents~=1.0 in c:\\users\\alvanakievi\\appdata\\roaming\\python\\python311\\site-packages (from semantic-kernel==1.29.0) (1.11.0)\n",
      "Requirement already satisfied: pydantic!=2.10.0,!=2.10.1,!=2.10.2,!=2.10.3,<2.12,>=2.0 in c:\\users\\alvanakievi\\appdata\\roaming\\python\\python311\\site-packages (from semantic-kernel==1.29.0) (2.11.4)\n",
      "Requirement already satisfied: pydantic-settings~=2.0 in c:\\users\\alvanakievi\\appdata\\roaming\\python\\python311\\site-packages (from semantic-kernel==1.29.0) (2.9.1)\n",
      "Requirement already satisfied: defusedxml~=0.7 in c:\\users\\alvanakievi\\appdata\\roaming\\python\\python311\\site-packages (from semantic-kernel==1.29.0) (0.7.1)\n",
      "Requirement already satisfied: numpy>=1.25.0 in c:\\users\\alvanakievi\\appdata\\roaming\\python\\python311\\site-packages (from semantic-kernel==1.29.0) (2.2.5)\n",
      "Requirement already satisfied: openai>=1.67 in c:\\users\\alvanakievi\\appdata\\roaming\\python\\python311\\site-packages (from semantic-kernel==1.29.0) (1.77.0)\n",
      "Requirement already satisfied: openapi_core<0.20,>=0.18 in c:\\users\\alvanakievi\\appdata\\roaming\\python\\python311\\site-packages (from semantic-kernel==1.29.0) (0.19.5)\n",
      "Requirement already satisfied: websockets<16,>=13 in c:\\users\\alvanakievi\\appdata\\roaming\\python\\python311\\site-packages (from semantic-kernel==1.29.0) (15.0.1)\n",
      "Requirement already satisfied: aiortc>=1.9.0 in c:\\users\\alvanakievi\\appdata\\roaming\\python\\python311\\site-packages (from semantic-kernel==1.29.0) (1.11.0)\n",
      "Requirement already satisfied: opentelemetry-api~=1.24 in c:\\users\\alvanakievi\\appdata\\roaming\\python\\python311\\site-packages (from semantic-kernel==1.29.0) (1.32.1)\n",
      "Requirement already satisfied: opentelemetry-sdk~=1.24 in c:\\users\\alvanakievi\\appdata\\roaming\\python\\python311\\site-packages (from semantic-kernel==1.29.0) (1.32.1)\n",
      "Requirement already satisfied: prance<25.4.9,>=23.6.21 in c:\\users\\alvanakievi\\appdata\\roaming\\python\\python311\\site-packages (from semantic-kernel==1.29.0) (25.4.8.0)\n",
      "Requirement already satisfied: pybars4~=0.9 in c:\\users\\alvanakievi\\appdata\\roaming\\python\\python311\\site-packages (from semantic-kernel==1.29.0) (0.9.13)\n",
      "Requirement already satisfied: jinja2~=3.1 in c:\\users\\alvanakievi\\appdata\\roaming\\python\\python311\\site-packages (from semantic-kernel==1.29.0) (3.1.6)\n",
      "Requirement already satisfied: nest-asyncio~=1.6 in c:\\users\\alvanakievi\\appdata\\roaming\\python\\python311\\site-packages (from semantic-kernel==1.29.0) (1.6.0)\n",
      "Requirement already satisfied: scipy>=1.15.1 in c:\\users\\alvanakievi\\appdata\\roaming\\python\\python311\\site-packages (from semantic-kernel==1.29.0) (1.15.2)\n",
      "Requirement already satisfied: azure-core>=1.31.0 in c:\\users\\alvanakievi\\appdata\\roaming\\python\\python311\\site-packages (from azure-identity) (1.34.0)\n",
      "Requirement already satisfied: cryptography>=2.5 in c:\\users\\alvanakievi\\appdata\\roaming\\python\\python311\\site-packages (from azure-identity) (44.0.3)\n",
      "Requirement already satisfied: msal>=1.30.0 in c:\\users\\alvanakievi\\appdata\\roaming\\python\\python311\\site-packages (from azure-identity) (1.32.3)\n",
      "Requirement already satisfied: msal-extensions>=1.2.0 in c:\\users\\alvanakievi\\appdata\\roaming\\python\\python311\\site-packages (from azure-identity) (1.3.1)\n",
      "Requirement already satisfied: typing-extensions>=4.0.0 in c:\\users\\alvanakievi\\appdata\\roaming\\python\\python311\\site-packages (from azure-identity) (4.13.2)\n",
      "Requirement already satisfied: charset-normalizer<4,>=2 in c:\\users\\alvanakievi\\appdata\\roaming\\python\\python311\\site-packages (from requests) (3.4.2)\n",
      "Requirement already satisfied: idna<4,>=2.5 in c:\\users\\alvanakievi\\appdata\\roaming\\python\\python311\\site-packages (from requests) (3.10)\n",
      "Requirement already satisfied: urllib3<3,>=1.21.1 in c:\\users\\alvanakievi\\appdata\\roaming\\python\\python311\\site-packages (from requests) (2.4.0)\n",
      "Requirement already satisfied: certifi>=2017.4.17 in c:\\users\\alvanakievi\\appdata\\roaming\\python\\python311\\site-packages (from requests) (2025.4.26)\n",
      "Requirement already satisfied: isodate>=0.6.1 in c:\\users\\alvanakievi\\appdata\\roaming\\python\\python311\\site-packages (from azure-storage-blob) (0.7.2)\n",
      "Requirement already satisfied: azure-common>=1.1 in c:\\users\\alvanakievi\\appdata\\roaming\\python\\python311\\site-packages (from azure-search-documents) (1.1.28)\n",
      "Requirement already satisfied: aiohappyeyeballs>=2.3.0 in c:\\users\\alvanakievi\\appdata\\roaming\\python\\python311\\site-packages (from aiohttp~=3.8->semantic-kernel==1.29.0) (2.6.1)\n",
      "Requirement already satisfied: aiosignal>=1.1.2 in c:\\users\\alvanakievi\\appdata\\roaming\\python\\python311\\site-packages (from aiohttp~=3.8->semantic-kernel==1.29.0) (1.3.2)\n",
      "Requirement already satisfied: attrs>=17.3.0 in c:\\users\\alvanakievi\\appdata\\roaming\\python\\python311\\site-packages (from aiohttp~=3.8->semantic-kernel==1.29.0) (25.3.0)\n",
      "Requirement already satisfied: frozenlist>=1.1.1 in c:\\users\\alvanakievi\\appdata\\roaming\\python\\python311\\site-packages (from aiohttp~=3.8->semantic-kernel==1.29.0) (1.6.0)\n",
      "Requirement already satisfied: multidict<7.0,>=4.5 in c:\\users\\alvanakievi\\appdata\\roaming\\python\\python311\\site-packages (from aiohttp~=3.8->semantic-kernel==1.29.0) (6.4.3)\n",
      "Requirement already satisfied: propcache>=0.2.0 in c:\\users\\alvanakievi\\appdata\\roaming\\python\\python311\\site-packages (from aiohttp~=3.8->semantic-kernel==1.29.0) (0.3.1)\n",
      "Requirement already satisfied: yarl<2.0,>=1.17.0 in c:\\users\\alvanakievi\\appdata\\roaming\\python\\python311\\site-packages (from aiohttp~=3.8->semantic-kernel==1.29.0) (1.20.0)\n",
      "Requirement already satisfied: aioice<1.0.0,>=0.9.0 in c:\\users\\alvanakievi\\appdata\\roaming\\python\\python311\\site-packages (from aiortc>=1.9.0->semantic-kernel==1.29.0) (0.10.1)\n",
      "Requirement already satisfied: av<15.0.0,>=14.0.0 in c:\\users\\alvanakievi\\appdata\\roaming\\python\\python311\\site-packages (from aiortc>=1.9.0->semantic-kernel==1.29.0) (14.3.0)\n",
      "Requirement already satisfied: cffi>=1.0.0 in c:\\users\\alvanakievi\\appdata\\roaming\\python\\python311\\site-packages (from aiortc>=1.9.0->semantic-kernel==1.29.0) (1.17.1)\n",
      "Requirement already satisfied: google-crc32c>=1.1 in c:\\users\\alvanakievi\\appdata\\roaming\\python\\python311\\site-packages (from aiortc>=1.9.0->semantic-kernel==1.29.0) (1.7.1)\n",
      "Requirement already satisfied: pyee>=13.0.0 in c:\\users\\alvanakievi\\appdata\\roaming\\python\\python311\\site-packages (from aiortc>=1.9.0->semantic-kernel==1.29.0) (13.0.0)\n",
      "Requirement already satisfied: pylibsrtp>=0.10.0 in c:\\users\\alvanakievi\\appdata\\roaming\\python\\python311\\site-packages (from aiortc>=1.9.0->semantic-kernel==1.29.0) (0.12.0)\n",
      "Requirement already satisfied: pyopenssl>=25.0.0 in c:\\users\\alvanakievi\\appdata\\roaming\\python\\python311\\site-packages (from aiortc>=1.9.0->semantic-kernel==1.29.0) (25.0.0)\n",
      "Requirement already satisfied: six>=1.11.0 in c:\\users\\alvanakievi\\appdata\\roaming\\python\\python311\\site-packages (from azure-core>=1.31.0->azure-identity) (1.17.0)\n",
      "Requirement already satisfied: deprecation<3.0,>=2.0 in c:\\users\\alvanakievi\\appdata\\roaming\\python\\python311\\site-packages (from cloudevents~=1.0->semantic-kernel==1.29.0) (2.1.0)\n",
      "Requirement already satisfied: MarkupSafe>=2.0 in c:\\users\\alvanakievi\\appdata\\roaming\\python\\python311\\site-packages (from jinja2~=3.1->semantic-kernel==1.29.0) (3.0.2)\n",
      "Requirement already satisfied: PyJWT<3,>=1.0.0 in c:\\users\\alvanakievi\\appdata\\roaming\\python\\python311\\site-packages (from PyJWT[crypto]<3,>=1.0.0->msal>=1.30.0->azure-identity) (2.10.1)\n",
      "Requirement already satisfied: anyio<5,>=3.5.0 in c:\\users\\alvanakievi\\appdata\\roaming\\python\\python311\\site-packages (from openai>=1.67->semantic-kernel==1.29.0) (4.9.0)\n",
      "Requirement already satisfied: distro<2,>=1.7.0 in c:\\users\\alvanakievi\\appdata\\roaming\\python\\python311\\site-packages (from openai>=1.67->semantic-kernel==1.29.0) (1.9.0)\n",
      "Requirement already satisfied: httpx<1,>=0.23.0 in c:\\users\\alvanakievi\\appdata\\roaming\\python\\python311\\site-packages (from openai>=1.67->semantic-kernel==1.29.0) (0.28.1)\n",
      "Requirement already satisfied: jiter<1,>=0.4.0 in c:\\users\\alvanakievi\\appdata\\roaming\\python\\python311\\site-packages (from openai>=1.67->semantic-kernel==1.29.0) (0.9.0)\n",
      "Requirement already satisfied: sniffio in c:\\users\\alvanakievi\\appdata\\roaming\\python\\python311\\site-packages (from openai>=1.67->semantic-kernel==1.29.0) (1.3.1)\n",
      "Requirement already satisfied: tqdm>4 in c:\\users\\alvanakievi\\appdata\\roaming\\python\\python311\\site-packages (from openai>=1.67->semantic-kernel==1.29.0) (4.67.1)\n",
      "Requirement already satisfied: jsonschema<5.0.0,>=4.18.0 in c:\\users\\alvanakievi\\appdata\\roaming\\python\\python311\\site-packages (from openapi_core<0.20,>=0.18->semantic-kernel==1.29.0) (4.23.0)\n",
      "Requirement already satisfied: jsonschema-path<0.4.0,>=0.3.1 in c:\\users\\alvanakievi\\appdata\\roaming\\python\\python311\\site-packages (from openapi_core<0.20,>=0.18->semantic-kernel==1.29.0) (0.3.4)\n",
      "Requirement already satisfied: more-itertools in c:\\users\\alvanakievi\\appdata\\roaming\\python\\python311\\site-packages (from openapi_core<0.20,>=0.18->semantic-kernel==1.29.0) (10.7.0)\n",
      "Requirement already satisfied: openapi-schema-validator<0.7.0,>=0.6.0 in c:\\users\\alvanakievi\\appdata\\roaming\\python\\python311\\site-packages (from openapi_core<0.20,>=0.18->semantic-kernel==1.29.0) (0.6.3)\n",
      "Requirement already satisfied: openapi-spec-validator<0.8.0,>=0.7.1 in c:\\users\\alvanakievi\\appdata\\roaming\\python\\python311\\site-packages (from openapi_core<0.20,>=0.18->semantic-kernel==1.29.0) (0.7.1)\n",
      "Requirement already satisfied: parse in c:\\users\\alvanakievi\\appdata\\roaming\\python\\python311\\site-packages (from openapi_core<0.20,>=0.18->semantic-kernel==1.29.0) (1.20.2)\n",
      "Requirement already satisfied: werkzeug<3.1.2 in c:\\users\\alvanakievi\\appdata\\roaming\\python\\python311\\site-packages (from openapi_core<0.20,>=0.18->semantic-kernel==1.29.0) (3.1.1)\n",
      "Requirement already satisfied: deprecated>=1.2.6 in c:\\users\\alvanakievi\\appdata\\roaming\\python\\python311\\site-packages (from opentelemetry-api~=1.24->semantic-kernel==1.29.0) (1.2.18)\n",
      "Requirement already satisfied: importlib-metadata<8.7.0,>=6.0 in c:\\users\\alvanakievi\\appdata\\roaming\\python\\python311\\site-packages (from opentelemetry-api~=1.24->semantic-kernel==1.29.0) (8.6.1)\n",
      "Requirement already satisfied: opentelemetry-semantic-conventions==0.53b1 in c:\\users\\alvanakievi\\appdata\\roaming\\python\\python311\\site-packages (from opentelemetry-sdk~=1.24->semantic-kernel==1.29.0) (0.53b1)\n",
      "Requirement already satisfied: chardet>=5.2 in c:\\users\\alvanakievi\\appdata\\roaming\\python\\python311\\site-packages (from prance<25.4.9,>=23.6.21->semantic-kernel==1.29.0) (5.2.0)\n",
      "Requirement already satisfied: ruamel.yaml>=0.18.10 in c:\\users\\alvanakievi\\appdata\\roaming\\python\\python311\\site-packages (from prance<25.4.9,>=23.6.21->semantic-kernel==1.29.0) (0.18.10)\n",
      "Requirement already satisfied: packaging>=24.2 in c:\\users\\alvanakievi\\appdata\\roaming\\python\\python311\\site-packages (from prance<25.4.9,>=23.6.21->semantic-kernel==1.29.0) (24.2)\n",
      "Requirement already satisfied: PyMeta3>=0.5.1 in c:\\users\\alvanakievi\\appdata\\roaming\\python\\python311\\site-packages (from pybars4~=0.9->semantic-kernel==1.29.0) (0.5.1)\n",
      "Requirement already satisfied: annotated-types>=0.6.0 in c:\\users\\alvanakievi\\appdata\\roaming\\python\\python311\\site-packages (from pydantic!=2.10.0,!=2.10.1,!=2.10.2,!=2.10.3,<2.12,>=2.0->semantic-kernel==1.29.0) (0.7.0)\n",
      "Requirement already satisfied: pydantic-core==2.33.2 in c:\\users\\alvanakievi\\appdata\\roaming\\python\\python311\\site-packages (from pydantic!=2.10.0,!=2.10.1,!=2.10.2,!=2.10.3,<2.12,>=2.0->semantic-kernel==1.29.0) (2.33.2)\n",
      "Requirement already satisfied: typing-inspection>=0.4.0 in c:\\users\\alvanakievi\\appdata\\roaming\\python\\python311\\site-packages (from pydantic!=2.10.0,!=2.10.1,!=2.10.2,!=2.10.3,<2.12,>=2.0->semantic-kernel==1.29.0) (0.4.0)\n",
      "Requirement already satisfied: dnspython>=2.0.0 in c:\\users\\alvanakievi\\appdata\\roaming\\python\\python311\\site-packages (from aioice<1.0.0,>=0.9.0->aiortc>=1.9.0->semantic-kernel==1.29.0) (2.7.0)\n",
      "Requirement already satisfied: ifaddr>=0.2.0 in c:\\users\\alvanakievi\\appdata\\roaming\\python\\python311\\site-packages (from aioice<1.0.0,>=0.9.0->aiortc>=1.9.0->semantic-kernel==1.29.0) (0.2.0)\n",
      "Requirement already satisfied: pycparser in c:\\users\\alvanakievi\\appdata\\roaming\\python\\python311\\site-packages (from cffi>=1.0.0->aiortc>=1.9.0->semantic-kernel==1.29.0) (2.22)\n",
      "Requirement already satisfied: wrapt<2,>=1.10 in c:\\users\\alvanakievi\\appdata\\roaming\\python\\python311\\site-packages (from deprecated>=1.2.6->opentelemetry-api~=1.24->semantic-kernel==1.29.0) (1.17.2)\n",
      "Requirement already satisfied: httpcore==1.* in c:\\users\\alvanakievi\\appdata\\roaming\\python\\python311\\site-packages (from httpx<1,>=0.23.0->openai>=1.67->semantic-kernel==1.29.0) (1.0.9)\n",
      "Requirement already satisfied: h11>=0.16 in c:\\users\\alvanakievi\\appdata\\roaming\\python\\python311\\site-packages (from httpcore==1.*->httpx<1,>=0.23.0->openai>=1.67->semantic-kernel==1.29.0) (0.16.0)\n",
      "Requirement already satisfied: zipp>=3.20 in c:\\users\\alvanakievi\\appdata\\roaming\\python\\python311\\site-packages (from importlib-metadata<8.7.0,>=6.0->opentelemetry-api~=1.24->semantic-kernel==1.29.0) (3.21.0)\n",
      "Requirement already satisfied: jsonschema-specifications>=2023.03.6 in c:\\users\\alvanakievi\\appdata\\roaming\\python\\python311\\site-packages (from jsonschema<5.0.0,>=4.18.0->openapi_core<0.20,>=0.18->semantic-kernel==1.29.0) (2025.4.1)\n",
      "Requirement already satisfied: referencing>=0.28.4 in c:\\users\\alvanakievi\\appdata\\roaming\\python\\python311\\site-packages (from jsonschema<5.0.0,>=4.18.0->openapi_core<0.20,>=0.18->semantic-kernel==1.29.0) (0.36.2)\n",
      "Requirement already satisfied: rpds-py>=0.7.1 in c:\\users\\alvanakievi\\appdata\\roaming\\python\\python311\\site-packages (from jsonschema<5.0.0,>=4.18.0->openapi_core<0.20,>=0.18->semantic-kernel==1.29.0) (0.24.0)\n",
      "Requirement already satisfied: PyYAML>=5.1 in c:\\users\\alvanakievi\\appdata\\roaming\\python\\python311\\site-packages (from jsonschema-path<0.4.0,>=0.3.1->openapi_core<0.20,>=0.18->semantic-kernel==1.29.0) (6.0.2)\n",
      "Requirement already satisfied: pathable<0.5.0,>=0.4.1 in c:\\users\\alvanakievi\\appdata\\roaming\\python\\python311\\site-packages (from jsonschema-path<0.4.0,>=0.3.1->openapi_core<0.20,>=0.18->semantic-kernel==1.29.0) (0.4.4)\n",
      "Requirement already satisfied: rfc3339-validator in c:\\users\\alvanakievi\\appdata\\roaming\\python\\python311\\site-packages (from openapi-schema-validator<0.7.0,>=0.6.0->openapi_core<0.20,>=0.18->semantic-kernel==1.29.0) (0.1.4)\n",
      "Requirement already satisfied: lazy-object-proxy<2.0.0,>=1.7.1 in c:\\users\\alvanakievi\\appdata\\roaming\\python\\python311\\site-packages (from openapi-spec-validator<0.8.0,>=0.7.1->openapi_core<0.20,>=0.18->semantic-kernel==1.29.0) (1.11.0)\n",
      "Requirement already satisfied: ruamel.yaml.clib>=0.2.7 in c:\\users\\alvanakievi\\appdata\\roaming\\python\\python311\\site-packages (from ruamel.yaml>=0.18.10->prance<25.4.9,>=23.6.21->semantic-kernel==1.29.0) (0.2.12)\n",
      "Requirement already satisfied: colorama in c:\\users\\alvanakievi\\appdata\\roaming\\python\\python311\\site-packages (from tqdm>4->openai>=1.67->semantic-kernel==1.29.0) (0.4.6)\n",
      "Downloading azure_search_documents-11.5.2-py3-none-any.whl (298 kB)\n",
      "   ---------------------------------------- 0.0/298.8 kB ? eta -:--:--\n",
      "   -------- ------------------------------- 61.4/298.8 kB 3.4 MB/s eta 0:00:01\n",
      "   ---------------------------------------- 298.8/298.8 kB 4.7 MB/s eta 0:00:00\n",
      "Installing collected packages: azure-search-documents\n",
      "Successfully installed azure-search-documents-11.5.2\n"
     ]
    },
    {
     "name": "stderr",
     "output_type": "stream",
     "text": [
      "\n",
      "[notice] A new release of pip is available: 24.0 -> 25.1.1\n",
      "[notice] To update, run: python.exe -m pip install --upgrade pip\n"
     ]
    }
   ],
   "source": [
    "# Install required packages\n",
    "! pip install semantic-kernel==1.29.0 azure-identity python-dotenv requests pyodbc azure-storage-blob azure-search-documents"
   ]
  },
  {
   "cell_type": "markdown",
   "metadata": {},
   "source": [
    "We'll use Python modules from the `rws-app` directory to organize our code. Let's import these modules:"
   ]
  },
  {
   "cell_type": "code",
   "execution_count": 12,
   "metadata": {},
   "outputs": [
    {
     "name": "stdout",
     "output_type": "stream",
     "text": [
      "Environment Variables:\n",
      "ALLUSERSPROFILE: C:\\ProgramData\n",
      "APPDATA: C:\\Users\\alvanakievi\\AppData\\Roaming\n",
      "APPLICATIONINSIGHTS_CONFIGURATION_CONTENT: {}\n",
      "APPLICATION_INSIGHTS_NO_DIAGNOSTIC_CHANNEL: 1\n",
      "CHROME_CRASHPAD_PIPE_NAME: \\\\.\\pipe\\crashpad_25408_QYQTWXWSMCZNHTVK\n",
      "COMMONPROGRAMFILES: C:\\Program Files\\Common Files\n",
      "COMMONPROGRAMFILES(X86): C:\\Program Files (x86)\\Common Files\n",
      "COMMONPROGRAMW6432: C:\\Program Files\\Common Files\n",
      "COMPUTERNAME: EVI\n",
      "COMSPEC: C:\\Windows\\system32\\cmd.exe\n",
      "DRIVERDATA: C:\\Windows\\System32\\Drivers\\DriverData\n",
      "EFC_8704: 1\n",
      "ELECTRON_RUN_AS_NODE: 1\n",
      "FPS_BROWSER_APP_PROFILE_STRING: Internet Explorer\n",
      "FPS_BROWSER_USER_PROFILE_STRING: Default\n",
      "GOPATH: C:\\Users\\alvanakievi\\go\n",
      "HOMEDRIVE: C:\n",
      "HOMEPATH: \\Users\\alvanakievi\n",
      "JPY_INTERRUPT_EVENT: 5520\n",
      "LOCALAPPDATA: C:\\Users\\alvanakievi\\AppData\\Local\n",
      "LOGONSERVER: \\\\EVI\n",
      "NUMBER_OF_PROCESSORS: 8\n",
      "ONEDRIVE: C:\\Users\\alvanakievi\\OneDrive - Microsoft\n",
      "ONEDRIVECOMMERCIAL: C:\\Users\\alvanakievi\\OneDrive - Microsoft\n",
      "ORIGINAL_XDG_CURRENT_DESKTOP: undefined\n",
      "OS: Windows_NT\n",
      "PATH: c:\\Program Files\\Python311;c:\\Users\\alvanakievi\\AppData\\Roaming\\Python\\Python311\\Scripts;C:\\Program Files\\Python311\\Scripts\\;C:\\Program Files\\Python311\\;C:\\Program Files\\Microsoft SDKs\\Azure\\CLI2\\wbin;C:\\Windows\\system32;C:\\Windows;C:\\Windows\\System32\\Wbem;C:\\Windows\\System32\\WindowsPowerShell\\v1.0\\;C:\\Windows\\System32\\OpenSSH\\;C:\\Program Files\\Microsoft SQL Server\\Client SDK\\ODBC\\170\\Tools\\Binn\\;C:\\Program Files\\Microsoft SQL Server\\150\\Tools\\Binn\\;C:\\Program Files\\dotnet\\;C:\\Program Files (x86)\\Windows Kits\\10\\Windows Performance Toolkit\\;C:\\Program Files\\Microsoft\\Azure Functions Core Tools\\;C:\\Program Files (x86)\\Microsoft SQL Server\\160\\DTS\\Binn\\;C:\\Program Files\\Go\\bin;C:\\Program Files\\GitHub CLI\\;C:\\Program Files\\nodejs\\;C:\\Program Files\\nodejs\\npm.cmd;C:\\Program Files\\Git\\cmd;C:\\Program Files\\Kubernetes\\Minikube;C:\\Program Files\\Docker\\Docker\\resources\\bin;C:\\Users\\alvanakievi\\Downloads\\terraform_1.10.5_windows_amd64;C:\\Users\\alvanakievi\\AppData\\Local\\Programs\\Python\\Launcher\\;C:\\Users\\alvanakievi\\AppData\\Local\\Microsoft\\WindowsApps;C:\\Users\\alvanakievi\\AppData\\Local\\Programs\\Microsoft VS Code\\bin;C:\\Users\\alvanakievi\\.dotnet\\tools;C:\\Users\\alvanakievi\\AppData\\Local\\Programs\\Azure Dev CLI\\;C:\\Users\\alvanakievi\\AppData\\Local\\Programs\\Azure Data Studio\\bin;C:\\Users\\alvanakievi\\.bicep;C:\\Users\\alvanakievi\\AppData\\Local\\Programs\\Python\\Python312\\;C:\\Users\\alvanakievi\\AppData\\Local\\Programs\\Python\\Python312\\Scripts\\;C:\\Users\\alvanakievi\\go\\bin;C:\\Users\\alvanakievi\\AppData\\Roaming\\npm;C:\\Program Files\\Python311\\Scripts\\;C:\\Program Files\\Python311\\;C:\\Program Files\\Microsoft SDKs\\Azure\\CLI2\\wbin;C:\\Windows\\system32;C:\\Windows;C:\\Windows\\System32\\Wbem;C:\\Windows\\System32\\WindowsPowerShell\\v1.0\\;C:\\Windows\\System32\\OpenSSH\\;C:\\Program Files\\Microsoft SQL Server\\Client SDK\\ODBC\\170\\Tools\\Binn\\;C:\\Program Files\\Microsoft SQL Server\\150\\Tools\\Binn\\;C:\\Program Files\\dotnet\\;C:\\Program Files (x86)\\Windows Kits\\10\\Windows Performance Toolkit\\;C:\\Program Files\\Microsoft\\Azure Functions Core Tools\\;C:\\Program Files (x86)\\Microsoft SQL Server\\160\\DTS\\Binn\\;C:\\Program Files\\Go\\bin;C:\\Program Files\\GitHub CLI\\;C:\\Program Files\\nodejs\\;C:\\Program Files\\nodejs\\npm.cmd;C:\\Program Files\\Git\\cmd;C:\\Program Files\\Kubernetes\\Minikube;C:\\Program Files\\Docker\\Docker\\resources\\bin;C:\\Users\\alvanakievi\\Downloads\\terraform_1.10.5_windows_amd64;C:\\Users\\alvanakievi\\AppData\\Local\\Programs\\Python\\Launcher\\;C:\\Users\\alvanakievi\\AppData\\Local\\Microsoft\\WindowsApps;C:\\Users\\alvanakievi\\AppData\\Local\\Programs\\Microsoft VS Code\\bin;C:\\Users\\alvanakievi\\.dotnet\\tools;C:\\Users\\alvanakievi\\AppData\\Local\\Programs\\Azure Dev CLI\\;C:\\Users\\alvanakievi\\AppData\\Local\\Programs\\Azure Data Studio\\bin;C:\\Users\\alvanakievi\\.bicep;C:\\Users\\alvanakievi\\AppData\\Local\\Programs\\Python\\Python312\\;C:\\Users\\alvanakievi\\AppData\\Local\\Programs\\Python\\Python312\\Scripts\\;C:\\Users\\alvanakievi\\go\\bin;C:\\Users\\alvanakievi\\AppData\\Roaming\\npm\n",
      "PATHEXT: .COM;.EXE;.BAT;.CMD;.VBS;.VBE;.JS;.JSE;.WSF;.WSH;.MSC;.PY;.PYW\n",
      "POWERSHELL_DISTRIBUTION_CHANNEL: MSI:Windows 10 Enterprise\n",
      "PROCESSOR_ARCHITECTURE: AMD64\n",
      "PROCESSOR_IDENTIFIER: Intel64 Family 6 Model 140 Stepping 1, GenuineIntel\n",
      "PROCESSOR_LEVEL: 6\n",
      "PROCESSOR_REVISION: 8c01\n",
      "PROGRAMDATA: C:\\ProgramData\n",
      "PROGRAMFILES: C:\\Program Files\n",
      "PROGRAMFILES(X86): C:\\Program Files (x86)\n",
      "PROGRAMW6432: C:\\Program Files\n",
      "PSMODULEPATH: C:\\Program Files\\WindowsPowerShell\\Modules;C:\\Windows\\system32\\WindowsPowerShell\\v1.0\\Modules\n",
      "PUBLIC: C:\\Users\\Public\n",
      "PYDEVD_IPYTHON_COMPATIBLE_DEBUGGING: 1\n",
      "PYTHONIOENCODING: utf-8\n",
      "PYTHONUNBUFFERED: 1\n",
      "PYTHON_FROZEN_MODULES: on\n",
      "SESSIONNAME: Console\n",
      "SYSTEMDRIVE: C:\n",
      "SYSTEMROOT: C:\\Windows\n",
      "TEMP: C:\\Users\\ALVANA~1\\AppData\\Local\\Temp\n",
      "TMP: C:\\Users\\ALVANA~1\\AppData\\Local\\Temp\n",
      "UATDATA: C:\\Windows\\CCM\\UATData\\D9F8C395-CAB8-491d-B8AC-179A1FE1BE77\n",
      "USERDNSDOMAIN: redmond.corp.microsoft.com\n",
      "USERDOMAIN: REDMOND\n",
      "USERDOMAIN_ROAMINGPROFILE: REDMOND\n",
      "USERNAME: alvanakievi\n",
      "USERPROFILE: C:\\Users\\alvanakievi\n",
      "VSCODE_CODE_CACHE_PATH: C:\\Users\\alvanakievi\\AppData\\Roaming\\Code\\CachedData\\17baf841131aa23349f217ca7c570c76ee87b957\n",
      "VSCODE_CRASH_REPORTER_PROCESS_TYPE: extensionHost\n",
      "VSCODE_CWD: C:\\Users\\alvanakievi\\AppData\\Local\\Programs\\Microsoft VS Code\n",
      "VSCODE_DOTNET_INSTALL_TOOL_ORIGINAL_HOME: undefined\n",
      "VSCODE_ESM_ENTRYPOINT: vs/workbench/api/node/extensionHostProcess\n",
      "VSCODE_HANDLES_UNCAUGHT_ERRORS: true\n",
      "VSCODE_IPC_HOOK: \\\\.\\pipe\\5b41d7c9-1.99.3-main-sock\n",
      "VSCODE_L10N_BUNDLE_LOCATION: \n",
      "VSCODE_NLS_CONFIG: {\"userLocale\":\"en-us\",\"osLocale\":\"en-nl\",\"resolvedLanguage\":\"en\",\"defaultMessagesFile\":\"C:\\\\Users\\\\alvanakievi\\\\AppData\\\\Local\\\\Programs\\\\Microsoft VS Code\\\\resources\\\\app\\\\out\\\\nls.messages.json\",\"locale\":\"en-us\",\"availableLanguages\":{}}\n",
      "VSCODE_PID: 25408\n",
      "WINDIR: C:\\Windows\n",
      "PYDEVD_USE_FRAME_EVAL: NO\n",
      "TERM: xterm-color\n",
      "CLICOLOR: 1\n",
      "FORCE_COLOR: 1\n",
      "CLICOLOR_FORCE: 1\n",
      "PAGER: cat\n",
      "GIT_PAGER: cat\n",
      "MPLBACKEND: module://matplotlib_inline.backend_inline\n",
      "AZURE_OPENAI_API_KEY: ******\n",
      "AZURE_OPENAI_ENDPOINT: https://openai1-344fkjzgyyuv6.openai.azure.com/\n",
      "AZURE_OPENAI_MODEL_DEPLOYMENT_NAME: gpt-4o-mini\n",
      "AZURE_OPENAI_EMBEDDING_DEPLOYMENT_NAME: embedding-ada-002\n",
      "APIM_GATEWAY_URL: https://apim-344fkjzgyyuv6.azure-api.net\n",
      "APIM_SUBSCRIPTION_KEY: ******\n",
      "RAG_STORAGE_CONNECTION_STRING: ******\n",
      "RAG_DOCUMENTS_CONTAINER_NAME: documents\n",
      "SEARCH_SERVICE_ENDPOINT: https://ragsearch-344fkjzgyyuv6.search.windows.net\n",
      "SEARCH_SERVICE_ADMIN_KEY: ******\n",
      "SEARCH_INDEX_NAME: vector-1746368577681\n",
      "SEARCH_SEMANTIC_CONFIG: vector-1746368577681-semantic-configuration\n"
     ]
    }
   ],
   "source": [
    "import os\n",
    "import sys\n",
    "\n",
    "# Add the following directories to the Python path\n",
    "sys.path.append(os.path.abspath(\"./rws-app\"))\n",
    "sys.path.append(os.path.abspath(\"../../../shared\"))\n",
    "\n",
    "# Import our utility functions\n",
    "from utils import check_and_load_environment, display_environment_variables\n",
    "\n",
    "required_vars = [\n",
    "    \"AZURE_OPENAI_ENDPOINT\",\n",
    "    \"AZURE_OPENAI_API_KEY\",\n",
    "    \"AZURE_OPENAI_MODEL_DEPLOYMENT_NAME\",\n",
    "    \"APIM_GATEWAY_URL\",\n",
    "    \"APIM_SUBSCRIPTION_KEY\",\n",
    "]\n",
    "# Make sure we have the necessary environment variables\n",
    "check_and_load_environment(required_vars)\n",
    "\n",
    "# Display the environment variables (masking sensitive ones)\n",
    "display_environment_variables()"
   ]
  },
  {
   "cell_type": "markdown",
   "metadata": {},
   "source": [
    "To use this workshop, you need to create a `.env` file with the following variables:\n",
    "\n",
    "```\n",
    "AZURE_OPENAI_ENDPOINT='[YOUR_ENDPOINT]'\n",
    "AZURE_OPENAI_API_KEY='[YOUR_API_KEY]'\n",
    "AZURE_OPENAI_MODEL_DEPLOYMENT_NAME='gpt-4o'\n",
    "APIM_GATEWAY_URL='[YOUR_APIM_GATEWAY_URL]'\n",
    "APIM_SUBSCRIPTION_KEY='[YOUR_SUBSCRIPTION_KEY]'\n",
    "```\n",
    "\n",
    "These will connect to your Azure resources, including Azure OpenAI and API Management."
   ]
  },
  {
   "cell_type": "markdown",
   "metadata": {},
   "source": [
    "## Step 2: Setting Up Semantic Kernel\n",
    "\n",
    "Now, let's set up a Semantic Kernel instance that will be the foundation for our agent system. We'll use our `kernel_setup` module to create the kernel with the appropriate AI service."
   ]
  },
  {
   "cell_type": "code",
   "execution_count": null,
   "metadata": {},
   "outputs": [
    {
     "name": "stdout",
     "output_type": "stream",
     "text": [
      "Kernel created successfully!\n"
     ]
    }
   ],
   "source": [
    "# Import the kernel setup function\n",
    "\n",
    "# Create a main kernel for our agents\n"
   ]
  },
  {
   "cell_type": "markdown",
   "metadata": {},
   "source": [
    "<details>\n",
    "<summary>Click to see solution</summary>\n",
    "\n",
    "```python\n",
    "\n",
    "# Import the kernel setup function\n",
    "from kernel_setup import create_kernel_with_service\n",
    "\n",
    "# Create a main kernel for our agents\n",
    "kernel = create_kernel_with_service(service_id=\"chat-completion\")\n",
    "print(\"Kernel created successfully!\")\n",
    "\n",
    "```\n",
    "</details>"
   ]
  },
  {
   "cell_type": "markdown",
   "metadata": {},
   "source": [
    "## Step 3: Adding Plugins\n",
    "\n",
    "### Connecting to Azure API Management\n",
    "\n",
    "Now, let's set up functions to call the API endpoints through APIM. These will be registered with our kernel and made available to the agents. \n",
    "\n",
    "The `ApiManagementPlugin` class in the `api_plugin.py` module provides:\n",
    "- A connection to the API Management gateway\n",
    "- Functions for getting weather data\n",
    "- Functions for querying SQL databases\n",
    "- Functions for retrieving sales data by region"
   ]
  },
  {
   "cell_type": "code",
   "execution_count": null,
   "metadata": {},
   "outputs": [
    {
     "name": "stdout",
     "output_type": "stream",
     "text": [
      "RAG plugin registered with functions:\n",
      "['get_active_projects', 'get_asset_statistics', 'get_assets_by_region', 'get_critical_assets', 'get_safety_inspections']\n"
     ]
    }
   ],
   "source": [
    "from api_plugin import ApiManagementPlugin\n",
    "\n",
    "# Create an instance of the plugin\n",
    "apim_plugin = ApiManagementPlugin()\n",
    "\n",
    "# TODO Add the plugin to kernel\n",
    "\n",
    "\n",
    "functions = kernel.get_plugin(\"ApiManagement\").functions\n",
    "print(\"RAG plugin registered with functions:\")\n",
    "print([f.name for f in functions.values()])"
   ]
  },
  {
   "cell_type": "markdown",
   "metadata": {},
   "source": [
    "<details>\n",
    "<summary>Click to see solution</summary>\n",
    "\n",
    "```python\n",
    "\n",
    "# Add the plugin to kernel\n",
    "kernel.add_plugin(apim_plugin, plugin_name=\"ApiManagement\")\n",
    "\n",
    "```\n",
    "</details>"
   ]
  },
  {
   "cell_type": "markdown",
   "metadata": {},
   "source": [
    "### Connecting to AI Search & Blob Storage\n",
    "\n",
    "Next, let's connect our agents to Azure AI Search and Azure Blob Storage using the RAG (Retrieval Augmented Generation) plugin. The plugin can be found in the `RAGPlugin` class inside the `rag_plugin.py`. This plugin enables our agents to:\n",
    "\n",
    "- Search for information in a knowledge base stored in Azure Blob Storage\n",
    "- Use both keyword and semantic search capabilities of Azure AI Search\n",
    "- Retrieve relevant documents with their metadata\n",
    "- Enhance responses with specific domain knowledge\n",
    "\n",
    "The RAG pattern improves agent responses by retrieving relevant domain-specific information before generating answers."
   ]
  },
  {
   "cell_type": "code",
   "execution_count": 18,
   "metadata": {},
   "outputs": [
    {
     "name": "stdout",
     "output_type": "stream",
     "text": [
      "RAG plugin registered with functions:\n",
      "['search_knowledge_base']\n"
     ]
    }
   ],
   "source": [
    "from rag_plugin import RAGPlugin\n",
    "\n",
    "kernel.add_plugin(RAGPlugin(), plugin_name=\"RAGPlugin\")\n",
    "\n",
    "functions = kernel.get_plugin(\"RAGPlugin\").functions\n",
    "print(\"RAG plugin registered with functions:\")\n",
    "print([f.name for f in functions.values()])"
   ]
  },
  {
   "cell_type": "markdown",
   "metadata": {},
   "source": [
    "Let's examine how the API plugin works. It leverages Semantic Kernel's function calling capabilities to allow LLMs to interact with external systems through API Management. This approach provides several benefits:\n",
    "\n",
    "1. **Abstraction**: The agents don't need to know the details of how APIs are implemented\n",
    "2. **Security**: API keys are managed securely through API Management\n",
    "3. **Centralization**: All API calls go through a common gateway\n",
    "4. **Monitoring**: API calls can be monitored and analyzed\n",
    "\n",
    "Each function in the plugin is decorated with `@kernel_function` and includes parameter annotations to help the LLM understand how to use them."
   ]
  },
  {
   "cell_type": "markdown",
   "metadata": {},
   "source": [
    "## Step 4: Creating Specialized Agents\n",
    "\n",
    "Now, let's create specialized agents that can perform different tasks using the functions we've registered. Each agent will have a specific role and expertise.\n",
    "\n",
    "We have defined the following agents:\n",
    "1. **Infrastructure Analys Agentt**: Analyzes asset conditions and safety\n",
    "2. **Water Management Expert Agent**: Provides insights on water infrastructure\n",
    "3. **Strategic Advisor Agent**: Provides long-term infrastructure recommendations\n",
    "4. **Water Management Expert Agent**: Provides insights on water infrastructure\n",
    "5. **Knowledge Agent**: Can access and retrieve information from the knowledge base\n",
    "6. **Research Synthesis Agent**: Combines knowledge retrieval with infrastructure analysis"
   ]
  },
  {
   "cell_type": "code",
   "execution_count": null,
   "metadata": {},
   "outputs": [
    {
     "name": "stdout",
     "output_type": "stream",
     "text": [
      "Created specialized agents: InfrastructureAnalyst, WaterManagementExpert, StrategicAdvisor, KnowledgeAgent, ResearchSynthesisAgent\n"
     ]
    }
   ],
   "source": [
    "# TODO Import our agent creation functions from agents.py\n",
    "\n",
    "from semantic_kernel.connectors.ai import FunctionChoiceBehavior\n",
    "\n",
    "\n",
    "# Create settings with auto function calling enabled\n",
    "settings = kernel.get_prompt_execution_settings_from_service_id(\n",
    "    service_id=\"chat-completion\"\n",
    ")\n",
    "\n",
    "\n",
    "settings.function_choice_behavior = FunctionChoiceBehavior.Auto()\n",
    "\n",
    "# TODO Create our specialized agents\n",
    "\n",
    "\n",
    "# Store all agents in a list for convenience\n",
    "agents = [\n",
    "    infrastructure_analysis_agent,\n",
    "    water_management_expert_agent,\n",
    "    strategic_advisor_agent,\n",
    "    knowledge_agent,\n",
    "    research_synthesis_agent,\n",
    "]\n",
    "\n",
    "print(\n",
    "    f\"Created specialized agents: {', '.join([agent.name for agent in agents])}\"\n",
    ")"
   ]
  },
  {
   "cell_type": "markdown",
   "metadata": {},
   "source": [
    "<details>\n",
    "<summary>Click to see solution</summary>\n",
    "\n",
    "```python\n",
    "# Import our agent creation functions from agents.py\n",
    "from agents import (\n",
    "    create_infrastructure_analyst_agent,\n",
    "    create_water_management_expert_agent,\n",
    "    create_strategic_advisor_agent,\n",
    "    create_knowledge_agent,\n",
    "    create_research_synthesis_agent,\n",
    ")\n",
    "\n",
    "# Create our specialized agents\n",
    "infrastructure_analysis_agent = create_infrastructure_analyst_agent(kernel, settings)\n",
    "water_management_expert_agent = create_water_management_expert_agent(kernel, settings)\n",
    "strategic_advisor_agent = create_strategic_advisor_agent(kernel, settings)\n",
    "knowledge_agent = create_knowledge_agent(kernel, settings)\n",
    "research_synthesis_agent = create_research_synthesis_agent(kernel, settings)\n",
    "```\n",
    "</details>"
   ]
  },
  {
   "cell_type": "markdown",
   "metadata": {},
   "source": [
    "Each agent is created with specific instructions that guide its behavior:\n",
    "\n",
    "1. **DataAnalyst** focuses on retrieving and analyzing data from the SQL database\n",
    "2. **EnvironmentalExpert** specializes in weather data and its implications\n",
    "3. **BusinessAdvisor** synthesizes information and provides strategic recommendations\n",
    "\n",
    "By creating specialized agents, we can benefit from:\n",
    "- **Division of labor**: Each agent focuses on what it does best\n",
    "- **Expertise**: Specialized prompts create more expert behavior\n",
    "- **Clearer responsibilities**: Each agent has a defined role"
   ]
  },
  {
   "cell_type": "markdown",
   "metadata": {},
   "source": [
    "## Step 5: Testing Individual Agents\n",
    "\n",
    "Before creating a multi-agent system, let's test each agent individually to make sure they can perform their specialized tasks.\n",
    "Here is a list of possible questions, designed to leverage on agents' expertise and access to external data.\n",
    "\n",
    "Here are meaningful questions for each agent that leverage the SQL function endpoints:\n",
    "\n",
    "For **Infrastructure Analysis Agent**:\n",
    "1. \"Can you analyze the critical infrastructure assets in Noord-Nederland and recommend prioritization for maintenance based on safety ratings and inspection findings?\"\n",
    "2. \"What patterns do you see in safety inspection reports for bridges across different regions, and what preventive measures would you recommend?\"\n",
    "3. \"Based on the active maintenance projects and safety ratings, which infrastructure types need the most immediate attention?\"\n",
    "\n",
    "For **Water Management Expert Agent**:\n",
    "1. \"Looking at safety inspection data for water-related infrastructure in coastal regions, what trends do you notice about maintenance needs?\"\n",
    "2. \"How do safety ratings of water management assets compare across different regions, and what might explain these differences?\"\n",
    "3. \"Based on recent inspection findings, what improvements would you recommend for water infrastructure maintenance protocols?\"\n",
    "\n",
    "For **Strategic Advisor Agent**:\n",
    "1. \"Using the asset statistics and safety inspection data, what strategic recommendations would you make for long-term infrastructure investment?\"\n",
    "2. \"How should we adjust our maintenance strategy based on the distribution of critical assets across regions?\"\n",
    "3. \"What policy recommendations would you make based on the correlation between inspection frequency and safety ratings?\"\n",
    "\n",
    "For **Knowledge Agent**:\n",
    "1. \"What were the key findings from the survey on cooperative systems for road operators?\"\n",
    "2. \"What insights can you draw from comparing maintenance projects' priorities with their actual safety ratings?\"\n",
    "3. \"What can you tell me about Asphalt paving at temperatures below freezing according to the Dutch Highways Authority?\"\n",
    "\n",
    "For **Research Synthesis Agent**:\n",
    "1. \"Can you synthesize the safety inspection findings and maintenance project data to identify emerging infrastructure challenges?\"\n",
    "2. \"What research implications can you draw from the relationship between asset age and safety ratings across different infrastructure types?\"\n",
    "3. \"Based on our inspection and maintenance data, what research areas should we prioritize for improving infrastructure resilience?\""
   ]
  },
  {
   "cell_type": "code",
   "execution_count": 20,
   "metadata": {},
   "outputs": [
    {
     "name": "stdout",
     "output_type": "stream",
     "text": [
      "\n",
      "=== Testing InfrastructureAnalyst ===\n",
      "\n",
      "User: Can you analyze the critical infrastructure assets in Noord-Nederland and recommend prioritization for maintenance based on safety ratings and inspection findings?\n",
      "\n",
      "InfrastructureAnalyst: I am currently unable to retrieve information regarding critical infrastructure assets, safety inspection reports, or maintenance projects due to access restrictions.\n",
      "\n",
      "However, I can provide you with a general recommendation on how to prioritize maintenance for infrastructure assets:\n",
      "\n",
      "1. **Safety Ratings**: Focus on assets with the lowest safety ratings. These pose immediate risks and should be addressed as a priority.\n",
      "\n",
      "2. **Inspection Findings**: Review the most recent safety inspection reports for insights into specific issues. Pay attention to any urgent recommendations for repairs or reinforcements.\n",
      "\n",
      "3. **Frequent Incidents**: Assets that have a history of frequent issues or incidents in the past should also be high on the maintenance list.\n",
      "\n",
      "4. **Usage Levels**: Prioritize maintenance for heavily trafficked assets, as failures here can have widespread impacts.\n",
      "\n",
      "5. **Long-term Resilience**: Consider investments in upgrades or reinforcements for older infrastructure that may not meet current safety standards.\n",
      "\n",
      "If you have access to specific data or can retrieve reports from local sources, please provide that information, and I can help analyze it further.\n",
      "\n",
      "=== Test Complete ===\n",
      "\n"
     ]
    },
    {
     "data": {
      "text/plain": [
       "AgentResponseItem(message=ChatMessageContent(inner_content=ChatCompletion(id='chatcmpl-BTozetRV9HZzxfUvmDsFRnew4UaNN', choices=[Choice(finish_reason='stop', index=0, logprobs=None, message=ChatCompletionMessage(content='I am currently unable to retrieve information regarding critical infrastructure assets, safety inspection reports, or maintenance projects due to access restrictions.\\n\\nHowever, I can provide you with a general recommendation on how to prioritize maintenance for infrastructure assets:\\n\\n1. **Safety Ratings**: Focus on assets with the lowest safety ratings. These pose immediate risks and should be addressed as a priority.\\n\\n2. **Inspection Findings**: Review the most recent safety inspection reports for insights into specific issues. Pay attention to any urgent recommendations for repairs or reinforcements.\\n\\n3. **Frequent Incidents**: Assets that have a history of frequent issues or incidents in the past should also be high on the maintenance list.\\n\\n4. **Usage Levels**: Prioritize maintenance for heavily trafficked assets, as failures here can have widespread impacts.\\n\\n5. **Long-term Resilience**: Consider investments in upgrades or reinforcements for older infrastructure that may not meet current safety standards.\\n\\nIf you have access to specific data or can retrieve reports from local sources, please provide that information, and I can help analyze it further.', refusal=None, role='assistant', annotations=[], audio=None, function_call=None, tool_calls=None), content_filter_results={'hate': {'filtered': False, 'severity': 'safe'}, 'protected_material_code': {'filtered': False, 'detected': False}, 'protected_material_text': {'filtered': False, 'detected': False}, 'self_harm': {'filtered': False, 'severity': 'safe'}, 'sexual': {'filtered': False, 'severity': 'safe'}, 'violence': {'filtered': False, 'severity': 'safe'}})], created=1746447230, model='gpt-4o-mini-2024-07-18', object='chat.completion', service_tier=None, system_fingerprint='fp_ded0d14823', usage=CompletionUsage(completion_tokens=217, prompt_tokens=948, total_tokens=1165, completion_tokens_details=CompletionTokensDetails(accepted_prediction_tokens=0, audio_tokens=0, reasoning_tokens=0, rejected_prediction_tokens=0), prompt_tokens_details=PromptTokensDetails(audio_tokens=0, cached_tokens=0)), prompt_filter_results=[{'prompt_index': 0, 'content_filter_results': {'hate': {'filtered': False, 'severity': 'safe'}, 'jailbreak': {'filtered': False, 'detected': False}, 'self_harm': {'filtered': False, 'severity': 'safe'}, 'sexual': {'filtered': False, 'severity': 'safe'}, 'violence': {'filtered': False, 'severity': 'safe'}}}]), ai_model_id='gpt-4o-mini', metadata={'logprobs': None, 'id': 'chatcmpl-BTozetRV9HZzxfUvmDsFRnew4UaNN', 'created': 1746447230, 'system_fingerprint': 'fp_ded0d14823', 'usage': CompletionUsage(prompt_tokens=948, completion_tokens=217)}, content_type='message', role=<AuthorRole.ASSISTANT: 'assistant'>, name='InfrastructureAnalyst', items=[TextContent(inner_content=None, ai_model_id=None, metadata={}, content_type='text', text='I am currently unable to retrieve information regarding critical infrastructure assets, safety inspection reports, or maintenance projects due to access restrictions.\\n\\nHowever, I can provide you with a general recommendation on how to prioritize maintenance for infrastructure assets:\\n\\n1. **Safety Ratings**: Focus on assets with the lowest safety ratings. These pose immediate risks and should be addressed as a priority.\\n\\n2. **Inspection Findings**: Review the most recent safety inspection reports for insights into specific issues. Pay attention to any urgent recommendations for repairs or reinforcements.\\n\\n3. **Frequent Incidents**: Assets that have a history of frequent issues or incidents in the past should also be high on the maintenance list.\\n\\n4. **Usage Levels**: Prioritize maintenance for heavily trafficked assets, as failures here can have widespread impacts.\\n\\n5. **Long-term Resilience**: Consider investments in upgrades or reinforcements for older infrastructure that may not meet current safety standards.\\n\\nIf you have access to specific data or can retrieve reports from local sources, please provide that information, and I can help analyze it further.', encoding=None)], encoding=None, finish_reason=<FinishReason.STOP: 'stop'>, status=None), thread=<semantic_kernel.agents.chat_completion.chat_completion_agent.ChatHistoryAgentThread object at 0x0000028295FC3950>)"
      ]
     },
     "execution_count": 20,
     "metadata": {},
     "output_type": "execute_result"
    }
   ],
   "source": [
    "# Import the test_agent function\n",
    "from collaboration import test_agent\n",
    "\n",
    "# Test the Data Analyst agent\n",
    "await test_agent(infrastructure_analysis_agent, \"Can you analyze the critical infrastructure assets in Noord-Nederland and recommend prioritization for maintenance based on safety ratings and inspection findings?\")"
   ]
  },
  {
   "cell_type": "markdown",
   "metadata": {},
   "source": [
    "The **knowledge agent** is meant to search the knowledge base for relevant information. The knowledge base for this lab conists of 4 documents related to road maintanance found on the `https://open.rijkswaterstaat.nl/` website. \n",
    "- [Life-prolonging preventive maintenance techniques for porous asphalt](https://open.rijkswaterstaat.nl/zoeken/@55493/life-prolonging-preventive-maintenance/)\n",
    "- [Innovatie Projecten Wegonderhoud](https://open.rijkswaterstaat.nl/zoeken/@215119/innovatieprojecten-wegonderhoud-ipw-road/#highlight=road%20maintenance)\n",
    "- [Asphalt paving at temperatures below freezing](https://open.rijkswaterstaat.nl/zoeken/@205619/asphalt-paving-at-temperatures-below/#highlight=road%20maintenance)\n",
    "- [Analysis for the road operators : results from a survey](https://open.rijkswaterstaat.nl/zoeken/@32834/analysis-for-the-road-operators-results/#highlight=road%20maintenance)\n",
    "\n",
    "These files have been stored in a blob storage and indexed via AI Search. A local copy of these files can be found in the data folder. Try asking it quesitons about the contents of those files!"
   ]
  },
  {
   "cell_type": "code",
   "execution_count": 21,
   "metadata": {},
   "outputs": [
    {
     "name": "stdout",
     "output_type": "stream",
     "text": [
      "\n",
      "=== Testing KnowledgeAgent ===\n",
      "\n",
      "User: What can you tell me about Asphalt paving at temperatures below freezing according to the Dutch Highways Authority?\n",
      "\n",
      "KnowledgeAgent: According to the Dutch Highways Authority (RWS), the process of asphalt paving at temperatures below freezing involves several critical considerations and adjustments to ensure effective application and quality. Here are some key insights derived from a detailed report on this subject:\n",
      "\n",
      "### Key Recommendations for Paving at Temperatures ≤ 0°C\n",
      "1. **Temperature Requirements**:\n",
      "   - The asphalt mixture should be maintained at a temperature of **160°C** to ensure sufficient compaction even in potential hold-ups during application.\n",
      "   \n",
      "2. **Binder Content Adjustments**:\n",
      "   - For the winter mixture asphalt binder course (0/16 S), the binder content should be increased to at least **4.5% by mass** and **11.0% by volume**.\n",
      "   - The stone mastic asphalt (0/8 S) should also see an increased binder content of **7.3% by mass** and **16.5% by volume**. These adjustments are essential to maintain adequate void content at lower temperatures.\n",
      "\n",
      "3. **Technical Recommendations**:\n",
      "   - The use of **asphalt flow improvers** like Sasobit, which lowers the viscosity of the binder at high temperatures, can enhance compaction. \n",
      "   - Careful monitoring of compaction time is crucial—operators have a limited time frame to achieve compaction before the mix cools too much (approximately 23 minutes at certain temperatures).\n",
      "\n",
      "### Practical Considerations\n",
      "- The Dutch Standard Conditions for Contracts in Civil Engineering Works emphasize that processing of asphalt layers should comply with specific temperature conditions to mitigate risks associated with low ambient temperatures.\n",
      "- No paving operations should typically occur below **3°C** for wearing courses, and **0°C** for base courses without suitable technology or additives in place to support proper densification.\n",
      "\n",
      "### Summary of Challenges\n",
      "- Paving at these temperatures presents unique challenges related to mix cooling and the need for proper compaction within a shortened time frame. Adjusting material specifications and implementing best practices can help successfully mitigate risks.\n",
      "\n",
      "### Conclusion\n",
      "The processes and recommendations provided highlight the importance of strategic adjustments in material properties and application methods to facilitate successful asphalt paving in colder weather conditions, ultimately aiming for lasting quality in road infrastructure.\n",
      "\n",
      "Source: **final_draft_rapport_koac_asphalt_paving_below_freezing_sept_2010_def-pdf.pdf**.\n",
      "\n",
      "=== Test Complete ===\n",
      "\n"
     ]
    },
    {
     "data": {
      "text/plain": [
       "AgentResponseItem(message=ChatMessageContent(inner_content=ChatCompletion(id='chatcmpl-BToztYHDS8fLxaWgDboKrfhUirYJt', choices=[Choice(finish_reason='stop', index=0, logprobs=None, message=ChatCompletionMessage(content='According to the Dutch Highways Authority (RWS), the process of asphalt paving at temperatures below freezing involves several critical considerations and adjustments to ensure effective application and quality. Here are some key insights derived from a detailed report on this subject:\\n\\n### Key Recommendations for Paving at Temperatures ≤ 0°C\\n1. **Temperature Requirements**:\\n   - The asphalt mixture should be maintained at a temperature of **160°C** to ensure sufficient compaction even in potential hold-ups during application.\\n   \\n2. **Binder Content Adjustments**:\\n   - For the winter mixture asphalt binder course (0/16 S), the binder content should be increased to at least **4.5% by mass** and **11.0% by volume**.\\n   - The stone mastic asphalt (0/8 S) should also see an increased binder content of **7.3% by mass** and **16.5% by volume**. These adjustments are essential to maintain adequate void content at lower temperatures.\\n\\n3. **Technical Recommendations**:\\n   - The use of **asphalt flow improvers** like Sasobit, which lowers the viscosity of the binder at high temperatures, can enhance compaction. \\n   - Careful monitoring of compaction time is crucial—operators have a limited time frame to achieve compaction before the mix cools too much (approximately 23 minutes at certain temperatures).\\n\\n### Practical Considerations\\n- The Dutch Standard Conditions for Contracts in Civil Engineering Works emphasize that processing of asphalt layers should comply with specific temperature conditions to mitigate risks associated with low ambient temperatures.\\n- No paving operations should typically occur below **3°C** for wearing courses, and **0°C** for base courses without suitable technology or additives in place to support proper densification.\\n\\n### Summary of Challenges\\n- Paving at these temperatures presents unique challenges related to mix cooling and the need for proper compaction within a shortened time frame. Adjusting material specifications and implementing best practices can help successfully mitigate risks.\\n\\n### Conclusion\\nThe processes and recommendations provided highlight the importance of strategic adjustments in material properties and application methods to facilitate successful asphalt paving in colder weather conditions, ultimately aiming for lasting quality in road infrastructure.\\n\\nSource: **final_draft_rapport_koac_asphalt_paving_below_freezing_sept_2010_def-pdf.pdf**.', refusal=None, role='assistant', annotations=[], audio=None, function_call=None, tool_calls=None), content_filter_results={'hate': {'filtered': False, 'severity': 'safe'}, 'protected_material_code': {'filtered': False, 'detected': False}, 'protected_material_text': {'filtered': False, 'detected': False}, 'self_harm': {'filtered': False, 'severity': 'safe'}, 'sexual': {'filtered': False, 'severity': 'safe'}, 'violence': {'filtered': False, 'severity': 'safe'}})], created=1746447245, model='gpt-4o-mini-2024-07-18', object='chat.completion', service_tier=None, system_fingerprint='fp_ded0d14823', usage=CompletionUsage(completion_tokens=470, prompt_tokens=3760, total_tokens=4230, completion_tokens_details=CompletionTokensDetails(accepted_prediction_tokens=0, audio_tokens=0, reasoning_tokens=0, rejected_prediction_tokens=0), prompt_tokens_details=PromptTokensDetails(audio_tokens=0, cached_tokens=0)), prompt_filter_results=[{'prompt_index': 0, 'content_filter_results': {'hate': {'filtered': False, 'severity': 'safe'}, 'jailbreak': {'filtered': False, 'detected': False}, 'self_harm': {'filtered': False, 'severity': 'safe'}, 'sexual': {'filtered': False, 'severity': 'safe'}, 'violence': {'filtered': False, 'severity': 'safe'}}}]), ai_model_id='gpt-4o-mini', metadata={'logprobs': None, 'id': 'chatcmpl-BToztYHDS8fLxaWgDboKrfhUirYJt', 'created': 1746447245, 'system_fingerprint': 'fp_ded0d14823', 'usage': CompletionUsage(prompt_tokens=3760, completion_tokens=470)}, content_type='message', role=<AuthorRole.ASSISTANT: 'assistant'>, name='KnowledgeAgent', items=[TextContent(inner_content=None, ai_model_id=None, metadata={}, content_type='text', text='According to the Dutch Highways Authority (RWS), the process of asphalt paving at temperatures below freezing involves several critical considerations and adjustments to ensure effective application and quality. Here are some key insights derived from a detailed report on this subject:\\n\\n### Key Recommendations for Paving at Temperatures ≤ 0°C\\n1. **Temperature Requirements**:\\n   - The asphalt mixture should be maintained at a temperature of **160°C** to ensure sufficient compaction even in potential hold-ups during application.\\n   \\n2. **Binder Content Adjustments**:\\n   - For the winter mixture asphalt binder course (0/16 S), the binder content should be increased to at least **4.5% by mass** and **11.0% by volume**.\\n   - The stone mastic asphalt (0/8 S) should also see an increased binder content of **7.3% by mass** and **16.5% by volume**. These adjustments are essential to maintain adequate void content at lower temperatures.\\n\\n3. **Technical Recommendations**:\\n   - The use of **asphalt flow improvers** like Sasobit, which lowers the viscosity of the binder at high temperatures, can enhance compaction. \\n   - Careful monitoring of compaction time is crucial—operators have a limited time frame to achieve compaction before the mix cools too much (approximately 23 minutes at certain temperatures).\\n\\n### Practical Considerations\\n- The Dutch Standard Conditions for Contracts in Civil Engineering Works emphasize that processing of asphalt layers should comply with specific temperature conditions to mitigate risks associated with low ambient temperatures.\\n- No paving operations should typically occur below **3°C** for wearing courses, and **0°C** for base courses without suitable technology or additives in place to support proper densification.\\n\\n### Summary of Challenges\\n- Paving at these temperatures presents unique challenges related to mix cooling and the need for proper compaction within a shortened time frame. Adjusting material specifications and implementing best practices can help successfully mitigate risks.\\n\\n### Conclusion\\nThe processes and recommendations provided highlight the importance of strategic adjustments in material properties and application methods to facilitate successful asphalt paving in colder weather conditions, ultimately aiming for lasting quality in road infrastructure.\\n\\nSource: **final_draft_rapport_koac_asphalt_paving_below_freezing_sept_2010_def-pdf.pdf**.', encoding=None)], encoding=None, finish_reason=<FinishReason.STOP: 'stop'>, status=None), thread=<semantic_kernel.agents.chat_completion.chat_completion_agent.ChatHistoryAgentThread object at 0x00000282936F3010>)"
      ]
     },
     "execution_count": 21,
     "metadata": {},
     "output_type": "execute_result"
    }
   ],
   "source": [
    "await test_agent(knowledge_agent, \"What can you tell me about Asphalt paving at temperatures below freezing according to the Dutch Highways Authority?\")"
   ]
  },
  {
   "cell_type": "markdown",
   "metadata": {},
   "source": [
    "## Step 6: Setting Up Multi-Agent Collaboration - Sequential Approach\n",
    "\n",
    "Now that we've tested each agent individually, let's create a multi-agent system where agents can collaborate to solve complex problems. We'll start with a simple sequential (round-robin) approach where agents take turns in a fixed order."
   ]
  },
  {
   "cell_type": "code",
   "execution_count": null,
   "metadata": {},
   "outputs": [
    {
     "name": "stdout",
     "output_type": "stream",
     "text": [
      "Created a sequential group chat with 5 agents\n",
      "Maximum iterations: 6\n"
     ]
    }
   ],
   "source": [
    "# Import the collaboration functions\n",
    "from collaboration import create_sequential_group, run_group_chat\n",
    "\n",
    "# TODO First, create a sequential (round-robin) collaboration\n",
    " # 2 rounds of all 3 agents\n",
    "\n",
    "print(f\"Created a sequential group chat with {len(sequential_group.agents)} agents\")\n",
    "print(f\"Maximum iterations: {sequential_group.termination_strategy.maximum_iterations}\")"
   ]
  },
  {
   "cell_type": "markdown",
   "metadata": {},
   "source": [
    "<details>\n",
    "<summary>Click to see solution</summary>\n",
    "\n",
    "```python\n",
    "sequential_group = create_sequential_group(agents, max_iterations=6) \n",
    "```\n",
    "</details>"
   ]
  },
  {
   "cell_type": "code",
   "execution_count": 23,
   "metadata": {},
   "outputs": [
    {
     "name": "stdout",
     "output_type": "stream",
     "text": [
      "\n",
      "User: Given the current sales data and weather conditions in Europe, what strategic recommendations can you provide for our agricultural product sales in the next quarter?\n",
      "\n",
      "=== Beginning Agent Collaboration ===\n",
      "\n",
      "\n",
      "## InfrastructureAnalyst:\n",
      "I'm currently focused on analyzing infrastructure assets in the Netherlands, particularly regarding safety conditions and maintenance. For agricultural product sales and strategic recommendations based on sales data and weather conditions, I recommend consulting other experts or resources that specialize in agricultural economics, marketing strategies, or climate impact analysis. \n",
      "\n",
      "If you have any questions related to infrastructure, I'm here to help!\n",
      "\n",
      "## WaterManagementExpert:\n",
      "I'm currently focused on monitoring and analyzing water management and flood protection systems. For agricultural product sales recommendations, particularly in the context of weather conditions, it would be best to consult an expert in agricultural economics or marketing. \n",
      "\n",
      "If you have questions related specifically to water management, flood defense systems, or their impact on agriculture, feel free to ask!\n",
      "\n",
      "## StrategicAdvisor:\n",
      "I'm currently equipped to provide insights and recommendations related to infrastructure management, particularly focusing on water management, safety, and sustainability within the Dutch context. If your agricultural product sales strategy relates to infrastructure issues, such as distribution or irrigation strategies, or if you require insight into how infrastructure can be improved to support agricultural activities, I can assist with that.\n",
      "\n",
      "If you would like me to investigate relevant infrastructure assets, current projects, or safety conditions that could impact agriculture, please provide more details or let me know how I can assist you!\n",
      "\n",
      "## KnowledgeAgent:\n",
      "I'm unable to provide recommendations directly related to agricultural product sales based on sales data and weather conditions. However, I specialize in infrastructure and water management. If your agricultural strategy is influenced by infrastructure considerations, such as water management systems, distribution logistics, or any safety regulations, I can help gather information in those areas.\n",
      "\n",
      "If you want, I can retrieve relevant data on critical infrastructure or ongoing maintenance projects that may impact agriculture. Please let me know how you'd like to proceed!\n",
      "\n",
      "## ResearchSynthesisAgent:\n",
      "If you have any specific questions or areas you'd like me to focus on regarding infrastructure in relation to agriculture, or if you're looking for insights on asset conditions and their potential impact on agricultural operations, please let me know!\n",
      "\n",
      "## InfrastructureAnalyst:\n",
      "If you're looking for information on specific infrastructure assets, safety conditions, or maintenance projects in the Netherlands that may affect agricultural operations, I can help you with that. Please let me know what specific aspects you are interested in analyzing!\n",
      "\n",
      "=== Agent Collaboration Complete ===\n",
      "\n"
     ]
    }
   ],
   "source": [
    "# Test the sequential group with a complex question\n",
    "complex_query = \"Given the current sales data and weather conditions in Europe, what strategic recommendations can you provide for our agricultural product sales in the next quarter?\"\n",
    "\n",
    "chat_history = await run_group_chat(sequential_group, complex_query)"
   ]
  },
  {
   "cell_type": "markdown",
   "metadata": {},
   "source": [
    "### Understanding the Sequential Approach\n",
    "\n",
    "In the sequential approach:\n",
    "\n",
    "1. Agents take turns in the order they were added to the group\n",
    "2. Each agent sees the full conversation history when generating its response\n",
    "3. The conversation continues until it reaches the maximum number of iterations\n",
    "\n",
    "This approach is simple and ensures each agent gets an equal opportunity to contribute. However, it may not be the most efficient for all tasks, as some tasks might benefit from a more structured workflow."
   ]
  },
  {
   "cell_type": "markdown",
   "metadata": {},
   "source": [
    "## Step 7: Creating a Custom Workflow for Specialized Collaboration\n",
    "\n",
    "Now, let's create a more tailored collaboration pattern using a custom workflow. This allows us to define exactly which agent speaks in what order, creating a process that matches our business logic."
   ]
  },
  {
   "cell_type": "code",
   "execution_count": 24,
   "metadata": {},
   "outputs": [
    {
     "name": "stdout",
     "output_type": "stream",
     "text": [
      "Created fixed workflow chat with sequence: KnowledgeAgent → WaterManagementExpert → StrategicAdvisor → KnowledgeAgent → StrategicAdvisor\n"
     ]
    }
   ],
   "source": [
    "# Import the fixed workflow creation function\n",
    "from collaboration import create_fixed_workflow_chat\n",
    "\n",
    "# Define our specific workflow for agricultural decision-making:\n",
    "# First gather data, then analyze environmental conditions, and finally provide business recommendations\n",
    "agricultural_workflow = [\n",
    "    \"KnowledgeAgent\", # First get data\n",
    "    \"WaterManagementExpert\",  # Then check environmental conditions\n",
    "    \"StrategicAdvisor\",       # Provide initial recommendations\n",
    "    \"KnowledgeAgent\", # Do deeper data analysis based on recommendations\n",
    "    \"StrategicAdvisor\"        # Final strategic recommendations\n",
    "]\n",
    "\n",
    "# Create the workflow chat\n",
    "workflow_chat = create_fixed_workflow_chat(\n",
    "    agents=[knowledge_agent, water_management_expert_agent, strategic_advisor_agent],\n",
    "    workflow_sequence=agricultural_workflow,\n",
    "    max_iterations=len(agricultural_workflow),\n",
    ")\n",
    "\n",
    "print(f\"Created fixed workflow chat with sequence: {' → '.join(agricultural_workflow)}\")\n"
   ]
  },
  {
   "cell_type": "code",
   "execution_count": 25,
   "metadata": {},
   "outputs": [
    {
     "name": "stdout",
     "output_type": "stream",
     "text": [
      "\n",
      "User: How should we adapt our planting and distribution strategies for tomato seeds in Europe next season given current sales data and environmental trends?\n",
      "\n",
      "=== Beginning Agent Collaboration ===\n",
      "\n",
      "Selected: KnowledgeAgent\n",
      "\n",
      "## KnowledgeAgent:\n",
      "To adapt your planting and distribution strategies for tomato seeds in Europe for the upcoming season, it's essential to consider the current sales data and prevailing environmental trends. Here's a synthesized overview based on the latest insights:\n",
      "\n",
      "### 1. **Sales Data Analysis**\n",
      "   - **Top Performing Varieties**: Focus on cultivating and distributing tomato varieties that showed strong sales growth last season. This may include heirloom varieties or hybrids specifically suited for local climates.\n",
      "   - **Regional Preferences**: Tailor your offerings based on regional preferences identified through sales data, ensuring that your distribution aligns with areas that recorded higher demand.\n",
      "\n",
      "### 2. **Environmental Trends**\n",
      "   - **Climate Adaptation**: With rising temperatures and changing precipitation patterns, opt for drought-resistant varieties and those tolerant to extreme weather conditions. This not only ensures better yield but also reduces water resource strain.\n",
      "   - **Sustainable Practices**: Implement sustainable agricultural practices such as crop rotation, cover cropping, and organic fertilizers to enhance soil health and reduce environmental impact.\n",
      "\n",
      "### 3. **Distribution Strategy**\n",
      "   - **Local Partnerships**: Partner with local farmers and distributors to ensure fresher product delivery and better supply chain resilience. Local sourcing can also reduce carbon footprint associated with transportation.\n",
      "   - **Digital Sales Channels**: Leverage online platforms for direct sales to consumers, which can significantly boost sales, especially in urban areas where garden planting is increasingly popular.\n",
      "\n",
      "### 4. **Consumer Trends**\n",
      "   - **Health Concerns**: With a growing awareness of health and nutrition, emphasize the health benefits of tomatoes in your marketing strategies. Consider offering informational content related to the nutritional value of tomatoes and recipes.\n",
      "   - **Organic Options**: Consider introducing organic seed varieties in response to increasing consumer demand for organic produce.\n",
      "\n",
      "### 5. **Research and Development**\n",
      "   - Continuous monitoring of environmental changes and advancements in agricultural technology is crucial. Investing in R&D for resilient seed genetics may yield long-term benefits.\n",
      "\n",
      "### 6. **Regulatory Compliance**\n",
      "   - Ensure compliance with European regulations regarding seed production and distribution, particularly concerning genetically modified organisms (GMOs) and organic certifications.\n",
      "\n",
      "By focusing on these areas, your strategy for planting and distributing tomato seeds can be both responsive to market demands and resilient against environmental challenges. Always keep abreast of both consumer preferences and climate science for ongoing adaptations.\n",
      "\n",
      "### Sources\n",
      "- \"European Trends in Agricultural Sales and Sustainability\"\n",
      "- \"Environmental Impacts and Adaptations in Europen Agriculture\"\n",
      "- \"Market Dynamics for Tomato Seed Varieties in Europe\" \n",
      "\n",
      "This information is derived from various insights available in the current agricultural research landscape and is crucial for making informed decisions moving forward.\n",
      "Selected: WaterManagementExpert\n",
      "\n",
      "## WaterManagementExpert:\n",
      "To adapt your planting and distribution strategies for tomato seeds in Europe for the upcoming season, it's essential to consider both current sales data and prevailing environmental trends. Here's a synthesized overview based on the latest insights:\n",
      "\n",
      "### 1. **Sales Data Analysis**\n",
      "   - **Top Performing Varieties**: Focus on varieties that demonstrated strong sales growth in the previous season. Prioritize heirloom varieties or hybrids that align with local climate preferences and consumer tastes.\n",
      "   - **Geographic Preferences**: Analyze sales data by region to identify specific preferences, allowing for tailored distributions that match demand in different locales.\n",
      "\n",
      "### 2. **Environmental Trends**\n",
      "   - **Climate Adaptation**: Consider the increasing temperatures and shifting rainfall patterns. Opt for drought-resistant varieties and those that thrive in extreme weather conditions to mitigate supply risks.\n",
      "   - **Sustainable Practices**: Adopt sustainable agricultural practices such as crop rotation, companion planting, and organic fertilizers. These methods enhance soil health and resilience against pests while promoting sustainability.\n",
      "\n",
      "### 3. **Distribution Strategy**\n",
      "   - **Local Partnerships**: Collaborate with local farmers and distributors to secure fresher deliveries, fostering community support and reducing transportation costs and emissions.\n",
      "   - **E-commerce Integration**: Leverage digital platforms for direct-to-consumer sales, tapping into the increasing trend of urban home gardening, especially post-pandemic.\n",
      "\n",
      "### 4. **Consumer Trends**\n",
      "   - **Health Focus**: Capitalize on the growing consumer interest in health and nutrition by emphasizing the health benefits of tomatoes. Use marketing strategies that educate consumers on their nutritional value and versatility in cooking.\n",
      "   - **Organic Demand**: With rising demand for organic products, consider expanding your range of organic seed options to cater to health-conscious consumers.\n",
      "\n",
      "### 5. **Research and Development**\n",
      "   - Keep abreast of advancements in seed technology and environmental research to continuously adapt your offerings. Investing in the development of innovative seed genetics may enhance resilience to climate change.\n",
      "\n",
      "### 6. **Regulatory Compliance**\n",
      "   - Ensure that your strategies align with European regulations governing seed production and distribution, particularly concerning sustainable practices and GMO regulations.\n",
      "\n",
      "### Conclusion\n",
      "By focusing on these areas, your planting and distribution strategy for tomato seeds can effectively respond to market demands while addressing environmental challenges. Continuous monitoring of consumer preferences and environmental shifts will be vital for sustained success in the agricultural sector. \n",
      "\n",
      "Make sure to regularly analyze sales data and environmental trends for ongoing adaptations in your strategies.\n",
      "Selected: StrategicAdvisor\n",
      "\n",
      "## StrategicAdvisor:\n",
      "To effectively adapt your planting and distribution strategies for tomato seeds in Europe for the upcoming season, considering current sales data and environmental trends is crucial. Here are comprehensive recommendations:\n",
      "\n",
      "### 1. **Sales Data Analysis**\n",
      "   - **Identify Top-Selling Varieties**: Analyze sales data to determine which tomato varieties have sold best in previous seasons. Focus on those varieties for the upcoming season and potentially expand with similar options.\n",
      "   - **Regional Preferences**: Tailor your cultivation and distribution according to regional preferences. Certain tomato varieties may perform better in specific climates or cultures, so local insights will guide your strategy.\n",
      "\n",
      "### 2. **Environmental Considerations**\n",
      "   - **Climate Resilience**: Given the increasing variability in climate, prioritize planting drought-resistant and heat-tolerant tomato varieties to mitigate the impacts of higher temperatures and reduced water availability.\n",
      "   - **Sustainable Practices**: Implement sustainable farming techniques such as no-till farming, cover cropping, and integrated pest management to improve soil health and reduce chemical inputs.\n",
      "\n",
      "### 3. **Distribution Strategy**\n",
      "   - **Local Sourcing and Distribution**: Develop partnerships with local farms and markets for distribution. This approach not only reduces transportation emissions but also supports local economies and provides fresher products to consumers.\n",
      "   - **Online Sales Channels**: Utilize e-commerce platforms for direct-to-consumer sales, especially for urban customers interested in home gardening. A well-structured online marketing strategy can capture this growing market.\n",
      "\n",
      "### 4. **Consumer Trends**\n",
      "   - **Health and Wellness Focus**: With a rising interest in health, focus on the nutritional benefits of tomatoes in your marketing efforts. Provide educational content on recipes and the health benefits associated with consuming tomatoes.\n",
      "   - **Demand for Organic Products**: Respond to the growing consumer trend towards organic produce by offering organic tomato seed options. Transparent labeling and adherence to organic practices can enhance consumer trust.\n",
      "\n",
      "### 5. **Innovation and Research**\n",
      "   - **R&D Investment**: Continue to invest in research for developing improved tomato seed varieties that can withstand changing climate conditions. Collaborate with agricultural research institutions to stay at the forefront of genetic advancements.\n",
      "   - **Innovation in Farming Techniques**: Explore precision agriculture technologies that optimize water use and nutrient application, contributing to sustainability while maximizing yields.\n",
      "\n",
      "### 6. **Regulatory Compliance**\n",
      "   - **Adhere to Regulations**: Ensure compliance with European agricultural regulations, particularly regarding seed varieties and sustainable farming practices. This adherence is crucial for maintaining brand integrity and market access.\n",
      "\n",
      "### Conclusion\n",
      "By aligning your planting and distribution strategies with market insights and environmental considerations, you can enhance both yield and sustainability. Incorporating innovative practices, understanding consumer trends, and establishing strong local partnerships will position your tomato seed business for success in the coming season. Continuously monitor evolving sales data and adapt your strategies accordingly to remain competitive in the market.\n",
      "Selected: KnowledgeAgent\n",
      "\n",
      "## KnowledgeAgent:\n",
      "To effectively adapt your planting and distribution strategies for tomato seeds in Europe for the upcoming season, here are some tailored recommendations based on sales data and environmental trends:\n",
      "\n",
      "### 1. **Sales Data Insights**\n",
      "  - **Identify Best-Selling Varieties**: Examine your previous sales data to pinpoint which tomato varieties performed best. This can guide your planting decisions and inventory levels.\n",
      "  - **Regional Sales Trends**: Analyze the geographic regions where sales were strongest. Tailoring your distribution to meet demand in those areas can optimize your logistics and reduce waste.\n",
      "\n",
      "### 2. **Environmental Considerations**\n",
      "  - **Climate Resilience**: As climates become more variable, focus on tomato varieties that are resilient to heat and drought. This may involve selecting hybrids specifically bred for such conditions.\n",
      "  - **Sustainable Practices**: Implement sustainable planting practices, such as crop rotation, reduced pesticide usage, and organic fertilizers to enhance soil health and adapt to increasing regulation on agricultural environmental impact.\n",
      "\n",
      "### 3. **Distribution Strategy**\n",
      "  - **Local Partnerships**: Form partnerships with local distributors to reduce transportation emissions and ensure freshness. This can also support local economies and provide a marketing edge by promoting local produce.\n",
      "  - **E-commerce Opportunities**: Explore online sales platforms to reach a broader audience, particularly urban gardeners interested in home planting. This trend has accelerated due to shifts in consumer behavior post-pandemic.\n",
      "\n",
      "### 4. **Consumer Trends Observation**\n",
      "  - **Focus on Health Trends**: Emphasize the health benefits of tomatoes in your marketing efforts, positioning them as a nutritious choice. Consider content marketing strategies that align with health-conscious consumer interests.\n",
      "  - **Organic Market Demand**: With the rising demand for organic produce, consider expanding your line of organic tomato seeds to attract this segment of consumers.\n",
      "\n",
      "### 5. **Innovative Techniques and R&D**\n",
      "  - **Invest in R&D**: Continuously invest in research for developing new seed varieties that can cope with climate challenges and emerging pests. Collaboration with agricultural research institutions may provide valuable insights.\n",
      "  - **Adoption of Precision Agriculture**: Utilize precision agriculture technology to optimize water use and fertilization, which is critical given the environmental concerns and sustainability goals of modern agriculture.\n",
      "\n",
      "### 6. **Regulatory Compliance**\n",
      "  - **Stay Updated on Regulations**: Ensure adherence to European Union regulations regarding seed variances and environmentally sustainable practices. Compliance not only avoids penalties but can enhance your marketability.\n",
      "\n",
      "### Conclusion\n",
      "By aligning your strategies around these core areas—leveraging data, adapting to environmental conditions, innovating distribution methods, and keeping an eye on consumer trends—you can optimize your operations for the upcoming growing season. Regular analysis and flexibility to evolve with the market demands will be key to your ongoing success.\n",
      "\n",
      "### Sources\n",
      "- \"Market Dynamics and Environmental Trends in European Agriculture\"\n",
      "- \"Consumer Behavior and Trends in Organic Products\"\n",
      "- \"Innovative Approaches in Seed Development and Distribution\"\n",
      "\n",
      "This synthesized overview reflects the integration of sales data and environmental insights to shape informed decisions in your planting and distribution strategies for the next season.\n",
      "Selected: StrategicAdvisor\n",
      "\n",
      "## StrategicAdvisor:\n",
      "It appears that I'm currently unable to access specific databases regarding active infrastructure projects and asset statistics due to access restrictions. However, I can still provide guidance on how to adapt planting and distribution strategies for tomato seeds in Europe based on general best practices and trends.\n",
      "\n",
      "Here are key factors to consider:\n",
      "\n",
      "### General Recommendations for Tomato Seed Strategies\n",
      "\n",
      "1. **Market Trends and Sales Analysis**:\n",
      "   - **Evaluate Past Data**: If you have access to your own sales data, analyze which varieties sold best and in which regions. This analysis will help determine which seeds to prioritize for the upcoming season.\n",
      "   - **Consumer Preferences**: Stay updated on consumer preferences in various European markets. Pay attention to increasing interest in organic and locally sourced products.\n",
      "\n",
      "2. **Adaptation to Climate Change**:\n",
      "   - **Select Resilient Varieties**: With climate change affecting weather patterns, focus on developing and distributing tomato varieties that can withstand heat, drought, and variable precipitation.\n",
      "   - **Sustainable Agriculture Practices**: Incorporate practices like crop rotation, using cover crops, and reducing chemical inputs to promote sustainability.\n",
      "\n",
      "3. **Distribution Strategy**:\n",
      "   - **Localizing Distribution**: Establish partnerships with local farmers, cooperatives, and markets to foster a shorter supply chain and fresher produce.\n",
      "   - **E-Commerce Leverage**: Utilize e-commerce platforms to tap into the growing market of home gardeners. Online sales can increase visibility and direct sales channels.\n",
      "\n",
      "4. **Health and Nutrition Focus**:\n",
      "   - **Educational Marketing**: Highlight the health benefits of tomatoes in your marketing campaigns. Consider creating content that educates consumers about nutritional benefits, recipes, and gardening tips.\n",
      "\n",
      "5. **Research and Development**:\n",
      "   - **Invest in R&D**: Continuously explore advancements in seed technology, focusing on breeding and biotechnology efforts aimed at enhancing resilience and yield under changing climatic conditions.\n",
      "\n",
      "6. **Regulatory Compliance**:\n",
      "   - **Stay Informed on Regulations**: Keep abreast of any new European Union regulations regarding agriculture, especially concerning the use of pesticides, GMOs, and organic certification.\n",
      "\n",
      "This strategic overview leverages general industry knowledge and trends to address adapting to the seed market effectively. For data-driven decision-making, I recommend utilizing internal sales reports and consulting agricultural market research to refine your strategies further. If you have specific data or insights you'd like to discuss, please share!\n",
      "\n",
      "=== Agent Collaboration Complete ===\n",
      "\n"
     ]
    }
   ],
   "source": [
    "# Test our custom workflow with a strategic business question\n",
    "strategic_query = \"How should we adapt our planting and distribution strategies for tomato seeds in Europe next season given current sales data and environmental trends?\"\n",
    "\n",
    "chat_history = await run_group_chat(workflow_chat, strategic_query)"
   ]
  },
  {
   "cell_type": "markdown",
   "metadata": {},
   "source": [
    "### Understanding the Custom Workflow Approach\n",
    "\n",
    "In the custom workflow approach:\n",
    "\n",
    "1. We define a specific sequence of agents that mimics a business process\n",
    "2. The workflow follows steps: data gathering → environmental analysis → initial recommendations → deeper analysis → final recommendations\n",
    "3. Each agent still sees the full conversation history\n",
    "\n",
    "This approach provides more control over the collaboration process and can lead to more predictable and structured outputs. It's particularly useful when you have a well-defined process that you want to follow."
   ]
  },
  {
   "cell_type": "markdown",
   "metadata": {},
   "source": [
    "## Conclusion\n",
    "\n",
    "In this workshop, we've built a complete multi-agent system that leverages Semantic Kernel to create a powerful and flexible architecture.\n",
    "\n",
    "We've covered:\n",
    "\n",
    "1. Setting up a Semantic Kernel with Azure OpenAI\n",
    "2. Creating API Management plugins for function calling\n",
    "3. Designing specialized agents with different roles\n",
    "4. Implementing different collaboration strategies between agents\n",
    "5. Building custom workflows for domain-specific processes\n",
    "6. Integrating Azure AI Agents for enhanced capabilities\n",
    "\n",
    "The code is organized into maintainable modules in the `rws-app` directory, making it easy to extend and customize for your specific needs.\n",
    "\n",
    "For further exploration, you can:\n",
    "- Add more agents with different specializations\n",
    "- Implement more complex workflow patterns\n",
    "- Connect to additional APIs through API Management\n",
    "- Expand the system with more sophisticated reasoning capabilities"
   ]
  }
 ],
 "metadata": {
  "kernelspec": {
   "display_name": "Python 3",
   "language": "python",
   "name": "python3"
  },
  "language_info": {
   "codemirror_mode": {
    "name": "ipython",
    "version": 3
   },
   "file_extension": ".py",
   "mimetype": "text/x-python",
   "name": "python",
   "nbconvert_exporter": "python",
   "pygments_lexer": "ipython3",
   "version": "3.11.9"
  }
 },
 "nbformat": 4,
 "nbformat_minor": 2
}
