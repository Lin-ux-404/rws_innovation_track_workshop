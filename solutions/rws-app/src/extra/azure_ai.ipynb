{
 "cells": [
  {
   "cell_type": "markdown",
   "id": "ebabaef5",
   "metadata": {},
   "source": [
    "# Azure AI Integration \n",
    "\n",
    "This notebook is an extension of the `rws-app` multi-agent system. It contains advanced integration patterns for enhancing the agricultural analytics platform using Azure AI services. Specifically, you'll learn how to:\n",
    "\n",
    "- Implement persistent Azure AI Agents for specialized agricultural analysis tasks\n",
    "- Connect agents to external data sources and tools via function calling\n",
    "- Compare Semantic Kernel agents with Azure AI Agents for different use cases\n",
    "- Architect a scalable, enterprise-ready multi-agent system\n",
    "\n",
    "These techniques build upon the foundational concepts covered in the main workshop, providing a pathway to production deployment of AI agent systems in agricultural technology scenarios. The patterns demonstrated here can be applied to various domains requiring sophisticated data analysis and expert coordination."
   ]
  },
  {
   "cell_type": "markdown",
   "id": "e07d3f8c",
   "metadata": {},
   "source": [
    "## Step 8: Using Azure AI Agents\n",
    "\n",
    "So far, we've used Semantic Kernel's `ChatCompletionAgent` for our multi-agent system. Now, let's explore using the Azure AI Agent service, which offers additional capabilities like persistent assistants and more advanced tool integration.\n",
    "\n",
    "Azure AI Agents can be particularly useful when you need:\n",
    "- Persistent agents that maintain state across sessions\n",
    "- More complex tool calling capabilities\n",
    "- Integration with Azure's broader AI ecosystem\n",
    "\n",
    "Let's start by importing our Azure AI Agent functions:"
   ]
  },
  {
   "cell_type": "code",
   "execution_count": 1,
   "id": "1d342367",
   "metadata": {},
   "outputs": [],
   "source": [
    "# Import the Azure AI Agent functions\n",
    "from azure_ai_agent import (\n",
    "    create_data_analyst_azure_agent,\n",
    "    create_environmental_expert_azure_agent,\n",
    "    create_business_advisor_azure_agent\n",
    ")"
   ]
  },
  {
   "cell_type": "code",
   "execution_count": 2,
   "id": "aae519c5",
   "metadata": {},
   "outputs": [
    {
     "name": "stdout",
     "output_type": "stream",
     "text": [
      "AZURE_OPENAI_ENDPOINT is set: True\n",
      "AZURE_OPENAI_API_KEY is set: True\n",
      "AZURE_OPENAI_MODEL_DEPLOYMENT_NAME is set: True\n"
     ]
    }
   ],
   "source": [
    "# Load environment variables\n",
    "from dotenv import load_dotenv\n",
    "import os\n",
    "\n",
    "# Load environment variables from .env file\n",
    "load_dotenv()\n",
    "\n",
    "# Verify that the environment variables are loaded\n",
    "print(\"AZURE_OPENAI_ENDPOINT is set:\", bool(os.getenv(\"AZURE_OPENAI_ENDPOINT\")))\n",
    "print(\"AZURE_OPENAI_API_KEY is set:\", bool(os.getenv(\"AZURE_OPENAI_API_KEY\")))\n",
    "print(\"AZURE_OPENAI_MODEL_DEPLOYMENT_NAME is set:\", bool(os.getenv(\"AZURE_OPENAI_MODEL_DEPLOYMENT_NAME\")))\n"
   ]
  },
  {
   "cell_type": "markdown",
   "id": "9c87e13b",
   "metadata": {},
   "source": [
    "Now, let's define the function specifications that will be used by our Azure AI Agents. In a real implementation, you would register your functions with the Azure AI Agent service, but for demonstration purposes, we'll define them in the notebook:"
   ]
  },
  {
   "cell_type": "code",
   "execution_count": null,
   "id": "9577a0c1",
   "metadata": {},
   "outputs": [],
   "source": [
    "# Define tools that will be available to the Azure AI Agents\n",
    "available_tools = [\n",
    "    {\n",
    "        \"type\": \"function\",\n",
    "        \"function\": {\n",
    "            \"name\": \"get_weather\",\n",
    "            \"description\": \"Get weather information for a location\",\n",
    "            \"parameters\": {\n",
    "                \"type\": \"object\",\n",
    "                \"properties\": {\n",
    "                    \"location\": {\n",
    "                        \"type\": \"string\",\n",
    "                        \"description\": \"The location to get weather for (city name)\"\n",
    "                    },\n",
    "                    \"unit\": {\n",
    "                        \"type\": \"string\",\n",
    "                        \"description\": \"Temperature unit: 'celsius' or 'fahrenheit'\",\n",
    "                        \"default\": \"celsius\"\n",
    "                    }\n",
    "                },\n",
    "                \"required\": [\"location\"]\n",
    "            }\n",
    "        }\n",
    "    },\n",
    "    {\n",
    "        \"type\": \"function\",\n",
    "        \"function\": {\n",
    "            \"name\": \"execute_sql_query\",\n",
    "            \"description\": \"Execute a SQL query against the database\",\n",
    "            \"parameters\": {\n",
    "                \"type\": \"object\",\n",
    "                \"properties\": {\n",
    "                    \"query\": {\n",
    "                        \"type\": \"string\",\n",
    "                        \"description\": \"The SQL query to execute\"\n",
    "                    }\n",
    "                },\n",
    "                \"required\": [\"query\"]\n",
    "            }\n",
    "        }\n",
    "    },\n",
    "    {\n",
    "        \"type\": \"function\",\n",
    "        \"function\": {\n",
    "            \"name\": \"get_sales_by_region\",\n",
    "            \"description\": \"Get sales data for a specific region\",\n",
    "            \"parameters\": {\n",
    "                \"type\": \"object\",\n",
    "                \"properties\": {\n",
    "                    \"region_name\": {\n",
    "                        \"type\": \"string\",\n",
    "                        \"description\": \"Optional name of the region to filter by\"\n",
    "                    }\n",
    "                }\n",
    "            }\n",
    "        }\n",
    "    }\n",
    "]"
   ]
  },
  {
   "cell_type": "markdown",
   "id": "1c761489",
   "metadata": {},
   "source": [
    "Now, let's create our specialized Azure AI Agents:"
   ]
  },
  {
   "cell_type": "code",
   "execution_count": null,
   "id": "4c22af2d",
   "metadata": {},
   "outputs": [],
   "source": [
    "import asyncio\n",
    "\n",
    "async def create_agents():\n",
    "    try:\n",
    "        # Create specialized Azure AI Agents\n",
    "        print(\"Creating specialized Azure AI Agents...\")\n",
    "        data_analyst_azure = await create_data_analyst_azure_agent(tools=available_tools)\n",
    "        environmental_expert_azure = await create_environmental_expert_azure_agent(tools=[available_tools[0]])  # Only weather tool\n",
    "        business_advisor_azure = await create_business_advisor_azure_agent()  # No tools, just synthesizes information\n",
    "        \n",
    "        # Store all agents in a list for convenience\n",
    "        azure_agents = [data_analyst_azure, environmental_expert_azure, business_advisor_azure]\n",
    "        \n",
    "        print(\"Azure AI Agents created successfully!\")\n",
    "        return azure_agents\n",
    "    except Exception as e:\n",
    "        print(f\"Error creating Azure AI Agents: {str(e)}\")\n",
    "        print(\"This part of the workshop requires setting up Azure AI Agent resources. Check the Azure AI Services docs for more details.\")\n",
    "        return []\n",
    "\n",
    "# Execute the async function\n",
    "try:\n",
    "    azure_agents = await create_agents()\n",
    "except Exception as e:\n",
    "    print(f\"Error: {str(e)}\")"
   ]
  },
  {
   "cell_type": "markdown",
   "id": "22db30b6",
   "metadata": {},
   "source": [
    "### Testing Azure AI Agents\n",
    "\n",
    "If you've successfully created the Azure AI Agents, you can test them individually. If not, please refer to the Azure AI Agent setup documentation and review the `run_azure_agents.py` script for a complete demonstration."
   ]
  },
  {
   "cell_type": "code",
   "execution_count": null,
   "id": "35441c89",
   "metadata": {},
   "outputs": [],
   "source": [
    "# Define a test function for Azure AI Agents\n",
    "async def test_azure_agent(agent, prompt):\n",
    "    \"\"\"Test an individual Azure AI Agent with a prompt.\n",
    "    \n",
    "    Args:\n",
    "        agent: The Azure AI Agent to test\n",
    "        prompt: The prompt to send to the agent\n",
    "    \"\"\"\n",
    "    print(f\"\\n=== Testing Azure Agent: {agent.assistant_params.get('display_name', 'Unknown')} ===\\n\")\n",
    "    print(f\"User: {prompt}\\n\")\n",
    "    \n",
    "    # Get response from the agent\n",
    "    response = await agent.invoke(prompt=prompt)\n",
    "    \n",
    "    print(f\"Agent: {response}\\n\")\n",
    "    print(\"=== Test Complete ===\\n\")\n",
    "    \n",
    "    return response\n",
    "\n",
    "# Try to test the Azure AI Agents\n",
    "try:\n",
    "    if azure_agents and len(azure_agents) > 0:\n",
    "        await test_azure_agent(azure_agents[0], \"Show me the total sales for each region.\")\n",
    "    else:\n",
    "        print(\"Azure AI Agents not available. Skipping test.\")\n",
    "except NameError:\n",
    "    print(\"Azure AI Agents not available. Skipping test.\")\n",
    "except Exception as e:\n",
    "    print(f\"Error testing Azure AI Agent: {str(e)}\")"
   ]
  },
  {
   "cell_type": "markdown",
   "id": "69a641cd",
   "metadata": {},
   "source": [
    "### Comparing Semantic Kernel Agents and Azure AI Agents\n",
    "\n",
    "Both Semantic Kernel Agents and Azure AI Agents offer powerful capabilities for building agent systems, but they have different strengths:\n",
    "\n",
    "**Semantic Kernel Agents**:\n",
    "- **Flexibility**: More control over the agent architecture and behavior\n",
    "- **Local state management**: Easier to integrate with your application state\n",
    "- **MultiAgent orchestration**: Built-in support for agent collaboration\n",
    "- **Open-source**: Can be customized and extended as needed\n",
    "\n",
    "**Azure AI Agents**:\n",
    "- **Persistence**: Agents and their state persist across sessions\n",
    "- **Managed service**: Less code to maintain, more robust\n",
    "- **Advanced capabilities**: Built-in features like file handling, code execution\n",
    "- **Scalability**: Handles concurrent users more easily\n",
    "\n",
    "### Combining Both Approaches\n",
    "\n",
    "For many applications, a hybrid approach works best:\n",
    "\n",
    "1. Use **Azure AI Agents** for persistent assistants that need rich tool integration\n",
    "2. Use **Semantic Kernel Agents** for orchestrating collaboration between multiple agents\n",
    "3. Combine them by using Semantic Kernel's integration with Azure AI Agents"
   ]
  },
  {
   "cell_type": "markdown",
   "id": "f5bcf79e",
   "metadata": {},
   "source": [
    "## Step 9: Building Advanced Multi-Agent Systems for Real-World Applications\n",
    "\n",
    "The techniques demonstrated in this workshop can be extended to build sophisticated multi-agent systems for various enterprise scenarios. Here are some ways to develop this further:\n",
    "\n",
    "### Enhanced Analytics for Agricultural Data\n",
    "\n",
    "1. **Time-Series Analysis**: Build agents that can analyze seasonal patterns in agricultural data\n",
    "2. **Predictive Models**: Create specialized agents for crop yield prediction based on historical data\n",
    "3. **Market Analysis**: Integrate with commodity market data for pricing strategy recommendations\n",
    "4. **Risk Assessment**: Develop agents focused on identifying risks (weather, disease, market fluctuations)\n",
    "\n",
    "### Deployment Options\n",
    "\n",
    "The system can be deployed in various ways:\n",
    "\n",
    "1. **Web Application**: Expose the multi-agent system through a web interface\n",
    "2. **API Service**: Provide the multi-agent capabilities as an API service\n",
    "3. **Integration with Existing Systems**: Connect with ERP, CRM, or other enterprise systems\n",
    "4. **Mobile Applications**: Extend access to field workers through mobile apps\n",
    "\n",
    "### Next Steps\n",
    "\n",
    "To build a production-ready system, consider:\n",
    "\n",
    "1. **Agent Persistence**: Implement a database to store agent states and conversation history\n",
    "2. **Authentication & Authorization**: Add security layers for different users and roles\n",
    "3. **Logging & Monitoring**: Implement comprehensive logging for all agent actions\n",
    "4. **Error Handling**: Create robust error handling and recovery mechanisms\n",
    "5. **Testing & Validation**: Develop thorough testing protocols for your multi-agent system\n",
    "6. **Scalability**: Design the system to handle increased load and more complex queries"
   ]
  },
  {
   "cell_type": "markdown",
   "id": "2d5a3315",
   "metadata": {},
   "source": [
    "## Conclusion\n",
    "\n",
    "In this extra lab, we've covered Azure AI Agents and Azure API Management to create a more powerful, flexible architecture. You have learnt how to integrate Azure AI Agents for enhanced cpabilities. \n",
    "\n",
    "The code is organized into maintainable modules in the `extra` directory, making it easy to extend and customize for your specific needs.\n",
    "\n",
    "For further exploration, you can:\n",
    "- Connect to additional APIs through API Management\n",
    "- Expand the system with more sophisticated reasoning capabilities\n",
    "\n",
    "The combination of Azure AI Agents and Azure API Management's function calling capabilities provides a powerful foundation for building intelligent, multi-agent systems that can solve complex real-world problems."
   ]
  }
 ],
 "metadata": {
  "kernelspec": {
   "display_name": "venv",
   "language": "python",
   "name": "python3"
  },
  "language_info": {
   "codemirror_mode": {
    "name": "ipython",
    "version": 3
   },
   "file_extension": ".py",
   "mimetype": "text/x-python",
   "name": "python",
   "nbconvert_exporter": "python",
   "pygments_lexer": "ipython3",
   "version": "3.11.9"
  }
 },
 "nbformat": 4,
 "nbformat_minor": 5
}
